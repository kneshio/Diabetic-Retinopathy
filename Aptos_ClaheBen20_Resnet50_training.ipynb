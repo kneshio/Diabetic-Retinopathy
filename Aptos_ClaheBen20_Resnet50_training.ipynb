{
  "cells": [
    {
      "cell_type": "code",
      "execution_count": null,
      "id": "c041c2e7",
      "metadata": {
        "id": "c041c2e7"
      },
      "outputs": [],
      "source": [
        "%matplotlib inline\n",
        "import torch\n",
        "import torchvision\n",
        "import torch.nn as nn\n",
        "import torch.optim as optim\n",
        "from torch.utils.data import DataLoader\n",
        "from torchvision import datasets, models, transforms\n",
        "from torchvision.models import resnet50, ResNet50_Weights\n",
        "import os\n",
        "import numpy as np\n",
        "import pandas as pd\n",
        "import seaborn as sb\n",
        "import matplotlib.pyplot as plt\n",
        "from sklearn import metrics\n",
        "from sklearn.linear_model import LogisticRegressionCV\n",
        "from sklearn.model_selection import train_test_split\n",
        "from PIL import Image\n",
        "\n",
        "SEED = 1234"
      ]
    },
    {
      "cell_type": "code",
      "execution_count": null,
      "id": "08926fcd",
      "metadata": {
        "colab": {
          "base_uri": "https://localhost:8080/"
        },
        "id": "08926fcd",
        "outputId": "07103aac-b257-44fb-d92c-4163e01bc867"
      },
      "outputs": [
        {
          "name": "stdout",
          "output_type": "stream",
          "text": [
            "Requirement already satisfied: skorch in /usr/local/lib/python3.10/dist-packages (1.0.0)\n",
            "Requirement already satisfied: numpy>=1.13.3 in /usr/local/lib/python3.10/dist-packages (from skorch) (1.25.2)\n",
            "Requirement already satisfied: scikit-learn>=0.22.0 in /usr/local/lib/python3.10/dist-packages (from skorch) (1.2.2)\n",
            "Requirement already satisfied: scipy>=1.1.0 in /usr/local/lib/python3.10/dist-packages (from skorch) (1.11.4)\n",
            "Requirement already satisfied: tabulate>=0.7.7 in /usr/local/lib/python3.10/dist-packages (from skorch) (0.9.0)\n",
            "Requirement already satisfied: tqdm>=4.14.0 in /usr/local/lib/python3.10/dist-packages (from skorch) (4.66.4)\n",
            "Requirement already satisfied: joblib>=1.1.1 in /usr/local/lib/python3.10/dist-packages (from scikit-learn>=0.22.0->skorch) (1.4.2)\n",
            "Requirement already satisfied: threadpoolctl>=2.0.0 in /usr/local/lib/python3.10/dist-packages (from scikit-learn>=0.22.0->skorch) (3.5.0)\n"
          ]
        }
      ],
      "source": [
        "# install skorch\n",
        "!pip install skorch\n",
        "from skorch import NeuralNetClassifier\n",
        "from skorch.helper import predefined_split\n",
        "from skorch.callbacks import LRScheduler,Checkpoint,TrainEndCheckpoint,Freezer, ProgressBar, EarlyStopping, Checkpoint, EpochScoring\n",
        "from torch.optim.lr_scheduler import CyclicLR"
      ]
    },
    {
      "cell_type": "markdown",
      "id": "a621d005",
      "metadata": {
        "id": "a621d005"
      },
      "source": [
        "Exploratory Data Analysis\n",
        "The file Folds.csv contains all image files' path and filename. It includes a 5-fold cross-validation strategy. I will read it into a dataframe and find each file's main type label(benign or malignant) and sub-type label.\n"
      ]
    },
    {
      "cell_type": "code",
      "execution_count": null,
      "id": "iPfUOCeOwsqo",
      "metadata": {
        "colab": {
          "base_uri": "https://localhost:8080/"
        },
        "id": "iPfUOCeOwsqo",
        "outputId": "080b42a7-d09a-40e5-905d-b3c152f67b62"
      },
      "outputs": [
        {
          "name": "stdout",
          "output_type": "stream",
          "text": [
            "Drive already mounted at /content/drive; to attempt to forcibly remount, call drive.mount(\"/content/drive\", force_remount=True).\n"
          ]
        }
      ],
      "source": [
        "from google.colab import drive\n",
        "drive.mount('/content/drive')"
      ]
    },
    {
      "cell_type": "code",
      "execution_count": null,
      "id": "2b7c0c16",
      "metadata": {
        "colab": {
          "base_uri": "https://localhost:8080/",
          "height": 419
        },
        "id": "2b7c0c16",
        "outputId": "2032982a-5367-4300-fdcf-623ee42a023e"
      },
      "outputs": [
        {
          "data": {
            "application/vnd.google.colaboratory.intrinsic+json": {
              "summary": "{\n  \"name\": \"fold_data\",\n  \"rows\": 3661,\n  \"fields\": [\n    {\n      \"column\": \"id_code\",\n      \"properties\": {\n        \"dtype\": \"string\",\n        \"num_unique_values\": 3661,\n        \"samples\": [\n          \"15f8d769935c\",\n          \"14515b8f19b6\",\n          \"0afbeeef0ff7\"\n        ],\n        \"semantic_type\": \"\",\n        \"description\": \"\"\n      }\n    },\n    {\n      \"column\": \"diagnosis\",\n      \"properties\": {\n        \"dtype\": \"number\",\n        \"std\": 1,\n        \"min\": 0,\n        \"max\": 4,\n        \"num_unique_values\": 5,\n        \"samples\": [\n          4,\n          3,\n          1\n        ],\n        \"semantic_type\": \"\",\n        \"description\": \"\"\n      }\n    },\n    {\n      \"column\": \"filename\",\n      \"properties\": {\n        \"dtype\": \"string\",\n        \"num_unique_values\": 3661,\n        \"samples\": [\n          \"/content/drive/MyDrive/DL/aptos_claheBen20-225/train_images/15f8d769935c.png\",\n          \"/content/drive/MyDrive/DL/aptos_claheBen20-225/train_images/14515b8f19b6.png\",\n          \"/content/drive/MyDrive/DL/aptos_claheBen20-225/train_images/0afbeeef0ff7.png\"\n        ],\n        \"semantic_type\": \"\",\n        \"description\": \"\"\n      }\n    }\n  ]\n}",
              "type": "dataframe",
              "variable_name": "fold_data"
            },
            "text/html": [
              "\n",
              "  <div id=\"df-fbbf48f8-450e-488f-a7e3-03c8db6ce79e\" class=\"colab-df-container\">\n",
              "    <div>\n",
              "<style scoped>\n",
              "    .dataframe tbody tr th:only-of-type {\n",
              "        vertical-align: middle;\n",
              "    }\n",
              "\n",
              "    .dataframe tbody tr th {\n",
              "        vertical-align: top;\n",
              "    }\n",
              "\n",
              "    .dataframe thead th {\n",
              "        text-align: right;\n",
              "    }\n",
              "</style>\n",
              "<table border=\"1\" class=\"dataframe\">\n",
              "  <thead>\n",
              "    <tr style=\"text-align: right;\">\n",
              "      <th></th>\n",
              "      <th>id_code</th>\n",
              "      <th>diagnosis</th>\n",
              "      <th>filename</th>\n",
              "    </tr>\n",
              "  </thead>\n",
              "  <tbody>\n",
              "    <tr>\n",
              "      <th>0</th>\n",
              "      <td>000c1434d8d7</td>\n",
              "      <td>2</td>\n",
              "      <td>/content/drive/MyDrive/DL/aptos_claheBen20-225...</td>\n",
              "    </tr>\n",
              "    <tr>\n",
              "      <th>1</th>\n",
              "      <td>001639a390f0</td>\n",
              "      <td>4</td>\n",
              "      <td>/content/drive/MyDrive/DL/aptos_claheBen20-225...</td>\n",
              "    </tr>\n",
              "    <tr>\n",
              "      <th>2</th>\n",
              "      <td>0024cdab0c1e</td>\n",
              "      <td>1</td>\n",
              "      <td>/content/drive/MyDrive/DL/aptos_claheBen20-225...</td>\n",
              "    </tr>\n",
              "    <tr>\n",
              "      <th>3</th>\n",
              "      <td>002c21358ce6</td>\n",
              "      <td>0</td>\n",
              "      <td>/content/drive/MyDrive/DL/aptos_claheBen20-225...</td>\n",
              "    </tr>\n",
              "    <tr>\n",
              "      <th>4</th>\n",
              "      <td>005b95c28852</td>\n",
              "      <td>0</td>\n",
              "      <td>/content/drive/MyDrive/DL/aptos_claheBen20-225...</td>\n",
              "    </tr>\n",
              "    <tr>\n",
              "      <th>...</th>\n",
              "      <td>...</td>\n",
              "      <td>...</td>\n",
              "      <td>...</td>\n",
              "    </tr>\n",
              "    <tr>\n",
              "      <th>3656</th>\n",
              "      <td>ffa47f6a7bf4</td>\n",
              "      <td>2</td>\n",
              "      <td>/content/drive/MyDrive/DL/aptos_claheBen20-225...</td>\n",
              "    </tr>\n",
              "    <tr>\n",
              "      <th>3657</th>\n",
              "      <td>ffc04fed30e6</td>\n",
              "      <td>0</td>\n",
              "      <td>/content/drive/MyDrive/DL/aptos_claheBen20-225...</td>\n",
              "    </tr>\n",
              "    <tr>\n",
              "      <th>3658</th>\n",
              "      <td>ffcf7b45f213</td>\n",
              "      <td>2</td>\n",
              "      <td>/content/drive/MyDrive/DL/aptos_claheBen20-225...</td>\n",
              "    </tr>\n",
              "    <tr>\n",
              "      <th>3659</th>\n",
              "      <td>ffd97f8cd5aa</td>\n",
              "      <td>0</td>\n",
              "      <td>/content/drive/MyDrive/DL/aptos_claheBen20-225...</td>\n",
              "    </tr>\n",
              "    <tr>\n",
              "      <th>3660</th>\n",
              "      <td>ffec9a18a3ce</td>\n",
              "      <td>2</td>\n",
              "      <td>/content/drive/MyDrive/DL/aptos_claheBen20-225...</td>\n",
              "    </tr>\n",
              "  </tbody>\n",
              "</table>\n",
              "<p>3661 rows × 3 columns</p>\n",
              "</div>\n",
              "    <div class=\"colab-df-buttons\">\n",
              "\n",
              "  <div class=\"colab-df-container\">\n",
              "    <button class=\"colab-df-convert\" onclick=\"convertToInteractive('df-fbbf48f8-450e-488f-a7e3-03c8db6ce79e')\"\n",
              "            title=\"Convert this dataframe to an interactive table.\"\n",
              "            style=\"display:none;\">\n",
              "\n",
              "  <svg xmlns=\"http://www.w3.org/2000/svg\" height=\"24px\" viewBox=\"0 -960 960 960\">\n",
              "    <path d=\"M120-120v-720h720v720H120Zm60-500h600v-160H180v160Zm220 220h160v-160H400v160Zm0 220h160v-160H400v160ZM180-400h160v-160H180v160Zm440 0h160v-160H620v160ZM180-180h160v-160H180v160Zm440 0h160v-160H620v160Z\"/>\n",
              "  </svg>\n",
              "    </button>\n",
              "\n",
              "  <style>\n",
              "    .colab-df-container {\n",
              "      display:flex;\n",
              "      gap: 12px;\n",
              "    }\n",
              "\n",
              "    .colab-df-convert {\n",
              "      background-color: #E8F0FE;\n",
              "      border: none;\n",
              "      border-radius: 50%;\n",
              "      cursor: pointer;\n",
              "      display: none;\n",
              "      fill: #1967D2;\n",
              "      height: 32px;\n",
              "      padding: 0 0 0 0;\n",
              "      width: 32px;\n",
              "    }\n",
              "\n",
              "    .colab-df-convert:hover {\n",
              "      background-color: #E2EBFA;\n",
              "      box-shadow: 0px 1px 2px rgba(60, 64, 67, 0.3), 0px 1px 3px 1px rgba(60, 64, 67, 0.15);\n",
              "      fill: #174EA6;\n",
              "    }\n",
              "\n",
              "    .colab-df-buttons div {\n",
              "      margin-bottom: 4px;\n",
              "    }\n",
              "\n",
              "    [theme=dark] .colab-df-convert {\n",
              "      background-color: #3B4455;\n",
              "      fill: #D2E3FC;\n",
              "    }\n",
              "\n",
              "    [theme=dark] .colab-df-convert:hover {\n",
              "      background-color: #434B5C;\n",
              "      box-shadow: 0px 1px 3px 1px rgba(0, 0, 0, 0.15);\n",
              "      filter: drop-shadow(0px 1px 2px rgba(0, 0, 0, 0.3));\n",
              "      fill: #FFFFFF;\n",
              "    }\n",
              "  </style>\n",
              "\n",
              "    <script>\n",
              "      const buttonEl =\n",
              "        document.querySelector('#df-fbbf48f8-450e-488f-a7e3-03c8db6ce79e button.colab-df-convert');\n",
              "      buttonEl.style.display =\n",
              "        google.colab.kernel.accessAllowed ? 'block' : 'none';\n",
              "\n",
              "      async function convertToInteractive(key) {\n",
              "        const element = document.querySelector('#df-fbbf48f8-450e-488f-a7e3-03c8db6ce79e');\n",
              "        const dataTable =\n",
              "          await google.colab.kernel.invokeFunction('convertToInteractive',\n",
              "                                                    [key], {});\n",
              "        if (!dataTable) return;\n",
              "\n",
              "        const docLinkHtml = 'Like what you see? Visit the ' +\n",
              "          '<a target=\"_blank\" href=https://colab.research.google.com/notebooks/data_table.ipynb>data table notebook</a>'\n",
              "          + ' to learn more about interactive tables.';\n",
              "        element.innerHTML = '';\n",
              "        dataTable['output_type'] = 'display_data';\n",
              "        await google.colab.output.renderOutput(dataTable, element);\n",
              "        const docLink = document.createElement('div');\n",
              "        docLink.innerHTML = docLinkHtml;\n",
              "        element.appendChild(docLink);\n",
              "      }\n",
              "    </script>\n",
              "  </div>\n",
              "\n",
              "\n",
              "<div id=\"df-265c0992-9565-4762-afe9-fe91ee67c120\">\n",
              "  <button class=\"colab-df-quickchart\" onclick=\"quickchart('df-265c0992-9565-4762-afe9-fe91ee67c120')\"\n",
              "            title=\"Suggest charts\"\n",
              "            style=\"display:none;\">\n",
              "\n",
              "<svg xmlns=\"http://www.w3.org/2000/svg\" height=\"24px\"viewBox=\"0 0 24 24\"\n",
              "     width=\"24px\">\n",
              "    <g>\n",
              "        <path d=\"M19 3H5c-1.1 0-2 .9-2 2v14c0 1.1.9 2 2 2h14c1.1 0 2-.9 2-2V5c0-1.1-.9-2-2-2zM9 17H7v-7h2v7zm4 0h-2V7h2v10zm4 0h-2v-4h2v4z\"/>\n",
              "    </g>\n",
              "</svg>\n",
              "  </button>\n",
              "\n",
              "<style>\n",
              "  .colab-df-quickchart {\n",
              "      --bg-color: #E8F0FE;\n",
              "      --fill-color: #1967D2;\n",
              "      --hover-bg-color: #E2EBFA;\n",
              "      --hover-fill-color: #174EA6;\n",
              "      --disabled-fill-color: #AAA;\n",
              "      --disabled-bg-color: #DDD;\n",
              "  }\n",
              "\n",
              "  [theme=dark] .colab-df-quickchart {\n",
              "      --bg-color: #3B4455;\n",
              "      --fill-color: #D2E3FC;\n",
              "      --hover-bg-color: #434B5C;\n",
              "      --hover-fill-color: #FFFFFF;\n",
              "      --disabled-bg-color: #3B4455;\n",
              "      --disabled-fill-color: #666;\n",
              "  }\n",
              "\n",
              "  .colab-df-quickchart {\n",
              "    background-color: var(--bg-color);\n",
              "    border: none;\n",
              "    border-radius: 50%;\n",
              "    cursor: pointer;\n",
              "    display: none;\n",
              "    fill: var(--fill-color);\n",
              "    height: 32px;\n",
              "    padding: 0;\n",
              "    width: 32px;\n",
              "  }\n",
              "\n",
              "  .colab-df-quickchart:hover {\n",
              "    background-color: var(--hover-bg-color);\n",
              "    box-shadow: 0 1px 2px rgba(60, 64, 67, 0.3), 0 1px 3px 1px rgba(60, 64, 67, 0.15);\n",
              "    fill: var(--button-hover-fill-color);\n",
              "  }\n",
              "\n",
              "  .colab-df-quickchart-complete:disabled,\n",
              "  .colab-df-quickchart-complete:disabled:hover {\n",
              "    background-color: var(--disabled-bg-color);\n",
              "    fill: var(--disabled-fill-color);\n",
              "    box-shadow: none;\n",
              "  }\n",
              "\n",
              "  .colab-df-spinner {\n",
              "    border: 2px solid var(--fill-color);\n",
              "    border-color: transparent;\n",
              "    border-bottom-color: var(--fill-color);\n",
              "    animation:\n",
              "      spin 1s steps(1) infinite;\n",
              "  }\n",
              "\n",
              "  @keyframes spin {\n",
              "    0% {\n",
              "      border-color: transparent;\n",
              "      border-bottom-color: var(--fill-color);\n",
              "      border-left-color: var(--fill-color);\n",
              "    }\n",
              "    20% {\n",
              "      border-color: transparent;\n",
              "      border-left-color: var(--fill-color);\n",
              "      border-top-color: var(--fill-color);\n",
              "    }\n",
              "    30% {\n",
              "      border-color: transparent;\n",
              "      border-left-color: var(--fill-color);\n",
              "      border-top-color: var(--fill-color);\n",
              "      border-right-color: var(--fill-color);\n",
              "    }\n",
              "    40% {\n",
              "      border-color: transparent;\n",
              "      border-right-color: var(--fill-color);\n",
              "      border-top-color: var(--fill-color);\n",
              "    }\n",
              "    60% {\n",
              "      border-color: transparent;\n",
              "      border-right-color: var(--fill-color);\n",
              "    }\n",
              "    80% {\n",
              "      border-color: transparent;\n",
              "      border-right-color: var(--fill-color);\n",
              "      border-bottom-color: var(--fill-color);\n",
              "    }\n",
              "    90% {\n",
              "      border-color: transparent;\n",
              "      border-bottom-color: var(--fill-color);\n",
              "    }\n",
              "  }\n",
              "</style>\n",
              "\n",
              "  <script>\n",
              "    async function quickchart(key) {\n",
              "      const quickchartButtonEl =\n",
              "        document.querySelector('#' + key + ' button');\n",
              "      quickchartButtonEl.disabled = true;  // To prevent multiple clicks.\n",
              "      quickchartButtonEl.classList.add('colab-df-spinner');\n",
              "      try {\n",
              "        const charts = await google.colab.kernel.invokeFunction(\n",
              "            'suggestCharts', [key], {});\n",
              "      } catch (error) {\n",
              "        console.error('Error during call to suggestCharts:', error);\n",
              "      }\n",
              "      quickchartButtonEl.classList.remove('colab-df-spinner');\n",
              "      quickchartButtonEl.classList.add('colab-df-quickchart-complete');\n",
              "    }\n",
              "    (() => {\n",
              "      let quickchartButtonEl =\n",
              "        document.querySelector('#df-265c0992-9565-4762-afe9-fe91ee67c120 button');\n",
              "      quickchartButtonEl.style.display =\n",
              "        google.colab.kernel.accessAllowed ? 'block' : 'none';\n",
              "    })();\n",
              "  </script>\n",
              "</div>\n",
              "\n",
              "  <div id=\"id_a222aa75-84ea-4082-8f07-b0bb39024e92\">\n",
              "    <style>\n",
              "      .colab-df-generate {\n",
              "        background-color: #E8F0FE;\n",
              "        border: none;\n",
              "        border-radius: 50%;\n",
              "        cursor: pointer;\n",
              "        display: none;\n",
              "        fill: #1967D2;\n",
              "        height: 32px;\n",
              "        padding: 0 0 0 0;\n",
              "        width: 32px;\n",
              "      }\n",
              "\n",
              "      .colab-df-generate:hover {\n",
              "        background-color: #E2EBFA;\n",
              "        box-shadow: 0px 1px 2px rgba(60, 64, 67, 0.3), 0px 1px 3px 1px rgba(60, 64, 67, 0.15);\n",
              "        fill: #174EA6;\n",
              "      }\n",
              "\n",
              "      [theme=dark] .colab-df-generate {\n",
              "        background-color: #3B4455;\n",
              "        fill: #D2E3FC;\n",
              "      }\n",
              "\n",
              "      [theme=dark] .colab-df-generate:hover {\n",
              "        background-color: #434B5C;\n",
              "        box-shadow: 0px 1px 3px 1px rgba(0, 0, 0, 0.15);\n",
              "        filter: drop-shadow(0px 1px 2px rgba(0, 0, 0, 0.3));\n",
              "        fill: #FFFFFF;\n",
              "      }\n",
              "    </style>\n",
              "    <button class=\"colab-df-generate\" onclick=\"generateWithVariable('fold_data')\"\n",
              "            title=\"Generate code using this dataframe.\"\n",
              "            style=\"display:none;\">\n",
              "\n",
              "  <svg xmlns=\"http://www.w3.org/2000/svg\" height=\"24px\"viewBox=\"0 0 24 24\"\n",
              "       width=\"24px\">\n",
              "    <path d=\"M7,19H8.4L18.45,9,17,7.55,7,17.6ZM5,21V16.75L18.45,3.32a2,2,0,0,1,2.83,0l1.4,1.43a1.91,1.91,0,0,1,.58,1.4,1.91,1.91,0,0,1-.58,1.4L9.25,21ZM18.45,9,17,7.55Zm-12,3A5.31,5.31,0,0,0,4.9,8.1,5.31,5.31,0,0,0,1,6.5,5.31,5.31,0,0,0,4.9,4.9,5.31,5.31,0,0,0,6.5,1,5.31,5.31,0,0,0,8.1,4.9,5.31,5.31,0,0,0,12,6.5,5.46,5.46,0,0,0,6.5,12Z\"/>\n",
              "  </svg>\n",
              "    </button>\n",
              "    <script>\n",
              "      (() => {\n",
              "      const buttonEl =\n",
              "        document.querySelector('#id_a222aa75-84ea-4082-8f07-b0bb39024e92 button.colab-df-generate');\n",
              "      buttonEl.style.display =\n",
              "        google.colab.kernel.accessAllowed ? 'block' : 'none';\n",
              "\n",
              "      buttonEl.onclick = () => {\n",
              "        google.colab.notebook.generateWithVariable('fold_data');\n",
              "      }\n",
              "      })();\n",
              "    </script>\n",
              "  </div>\n",
              "\n",
              "    </div>\n",
              "  </div>\n"
            ],
            "text/plain": [
              "           id_code  diagnosis  \\\n",
              "0     000c1434d8d7          2   \n",
              "1     001639a390f0          4   \n",
              "2     0024cdab0c1e          1   \n",
              "3     002c21358ce6          0   \n",
              "4     005b95c28852          0   \n",
              "...            ...        ...   \n",
              "3656  ffa47f6a7bf4          2   \n",
              "3657  ffc04fed30e6          0   \n",
              "3658  ffcf7b45f213          2   \n",
              "3659  ffd97f8cd5aa          0   \n",
              "3660  ffec9a18a3ce          2   \n",
              "\n",
              "                                               filename  \n",
              "0     /content/drive/MyDrive/DL/aptos_claheBen20-225...  \n",
              "1     /content/drive/MyDrive/DL/aptos_claheBen20-225...  \n",
              "2     /content/drive/MyDrive/DL/aptos_claheBen20-225...  \n",
              "3     /content/drive/MyDrive/DL/aptos_claheBen20-225...  \n",
              "4     /content/drive/MyDrive/DL/aptos_claheBen20-225...  \n",
              "...                                                 ...  \n",
              "3656  /content/drive/MyDrive/DL/aptos_claheBen20-225...  \n",
              "3657  /content/drive/MyDrive/DL/aptos_claheBen20-225...  \n",
              "3658  /content/drive/MyDrive/DL/aptos_claheBen20-225...  \n",
              "3659  /content/drive/MyDrive/DL/aptos_claheBen20-225...  \n",
              "3660  /content/drive/MyDrive/DL/aptos_claheBen20-225...  \n",
              "\n",
              "[3661 rows x 3 columns]"
            ]
          },
          "execution_count": 5,
          "metadata": {},
          "output_type": "execute_result"
        }
      ],
      "source": [
        "fold_data = pd.read_csv(\"/content/drive/MyDrive/DL/aptos_kaggle/train2.csv\")\n",
        "# Get the real path of file in kaggle\n",
        "fold_data['filename'] = (\"/content/drive/MyDrive/DL/aptos_claheBen20-225/train_images/\"+fold_data[\"id_code\"]+\".png\")\n",
        "#Find the main type label and sub type label for each image\n",
        "fold_data[\"diagnosis\"] = fold_data[\"diagnosis\"]\n",
        "fold_data"
      ]
    },
    {
      "cell_type": "code",
      "execution_count": null,
      "id": "80ebb736",
      "metadata": {
        "colab": {
          "base_uri": "https://localhost:8080/"
        },
        "id": "80ebb736",
        "outputId": "205245ff-676e-46cb-e52f-a08afd4164ff"
      },
      "outputs": [
        {
          "data": {
            "text/plain": [
              "((2563, 3), (1098, 3))"
            ]
          },
          "execution_count": 6,
          "metadata": {},
          "output_type": "execute_result"
        }
      ],
      "source": [
        "#Split it into train set(70%) and test set(30%)\n",
        "img_data = fold_data\n",
        "test = img_data.sample(frac=0.3,random_state=123)\n",
        "train = img_data.drop(test.index)\n",
        "train.reset_index(inplace=True)\n",
        "train.drop(columns=['index'],inplace=True)\n",
        "test.reset_index(inplace=True)\n",
        "test.drop(columns=['index'],inplace=True)\n",
        "train.shape,test.shape"
      ]
    },
    {
      "cell_type": "code",
      "execution_count": null,
      "id": "6660d4c6",
      "metadata": {
        "colab": {
          "base_uri": "https://localhost:8080/"
        },
        "id": "6660d4c6",
        "outputId": "56b72d21-9371-4ddd-f2c0-514aaa2e7c6a"
      },
      "outputs": [
        {
          "data": {
            "text/plain": [
              "(array([2, 4, 1, ..., 2, 0, 2]), array([0, 0, 2, ..., 2, 0, 0]))"
            ]
          },
          "execution_count": 7,
          "metadata": {},
          "output_type": "execute_result"
        }
      ],
      "source": [
        "from sklearn import preprocessing\n",
        "# le = preprocessing.LabelEncoder()\n",
        "# y_train2 = le.fit_transform(train.main_type)\n",
        "# y_test2 = le.transform(test.main_type)\n",
        "# main_classname = list(le.classes_)\n",
        "\n",
        "le1 = preprocessing.LabelEncoder()\n",
        "y_train8 = le1.fit_transform(train.diagnosis)\n",
        "y_test8 = le1.transform(test.diagnosis)\n",
        "sub_classname = list(le1.classes_)\n",
        "\n",
        "\n",
        "y_train8,y_test8"
      ]
    },
    {
      "cell_type": "code",
      "execution_count": null,
      "id": "7490f424",
      "metadata": {
        "colab": {
          "base_uri": "https://localhost:8080/",
          "height": 407
        },
        "id": "7490f424",
        "outputId": "4f5733b3-4f16-433c-b24a-02279cca56ea"
      },
      "outputs": [
        {
          "data": {
            "image/png": "[encoded data removed]",
            "text/plain": [
              "<Figure size 800x400 with 2 Axes>"
            ]
          },
          "metadata": {},
          "output_type": "display_data"
        }
      ],
      "source": [
        "fig, ax = plt.subplots(ncols=2, figsize=(8, 4), tight_layout=True)\n",
        "\n",
        "# Plot image count/prop in each main type\n",
        "main_whole = img_data[\"diagnosis\"].value_counts(ascending=True)\n",
        "ax[0].bar(main_whole.index,main_whole,color=[\"red\", \"blue\",\"green\",\"skyblue\", \"hotpink\"])\n",
        "ax[0].bar_label(ax[0].containers[0], padding=2,\n",
        "             labels=[f\"{x:,} ({x/len(img_data):.2%})\" for x in main_whole])\n",
        "ax[0].set_title(\"Count of labled images in whole set\", size=12, pad=15)\n",
        "\n",
        "# Plot image count/prop in each sub type\n",
        "main_train = train[\"diagnosis\"].value_counts(ascending=True)\n",
        "ax[1].bar(main_train.index,main_train,color=[\"red\", \"blue\",\"green\",\"skyblue\", \"hotpink\"], alpha=0.8)\n",
        "ax[1].bar_label(ax[1].containers[0], padding=2,\n",
        "             labels=[f\"{x:,} ({x/len(train):.2%})\" for x in main_train])\n",
        "ax[1].set_title(\"Count of labled images in train set\", size=12, pad=15)\n",
        "plt.show()"
      ]
    },
    {
      "cell_type": "code",
      "execution_count": null,
      "id": "5d4ddb75",
      "metadata": {
        "colab": {
          "base_uri": "https://localhost:8080/",
          "height": 507
        },
        "id": "5d4ddb75",
        "outputId": "f64dc8bf-534d-4f1d-ab71-e4c1a9f71818"
      },
      "outputs": [
        {
          "data": {
            "image/png": "[encoded data removed]",
            "text/plain": [
              "<Figure size 1000x500 with 2 Axes>"
            ]
          },
          "metadata": {},
          "output_type": "display_data"
        }
      ],
      "source": [
        "fig, ax = plt.subplots(nrows=2, figsize=(10, 5), tight_layout=True)\n",
        "# Plot image count/prop in each sub type for whole set\n",
        "sub_whole = img_data[\"diagnosis\"].value_counts(ascending=True)\n",
        "ax[0].bar(sub_whole.index,sub_whole)\n",
        "ax[0].bar_label(ax[0].containers[0], padding=2,\n",
        "             labels=[f\"{x:,} ({x/len(img_data):.2%})\" for x in sub_whole])\n",
        "ax[0].set_title(\"Count of labled images in whole set\", size=12, pad=15)\n",
        "\n",
        "# Plot image count/prop in each sub type for train set\n",
        "sub_train = train[\"diagnosis\"].value_counts(ascending=True)\n",
        "ax[1].bar(sub_train.index,sub_train, alpha=0.8)\n",
        "ax[1].bar_label(ax[1].containers[0], padding=2,\n",
        "             labels=[f\"{x:,} ({x/len(train):.2%})\" for x in sub_train])\n",
        "ax[1].set_title(\"Count of labled images in train set\", size=12, pad=15)\n",
        "plt.show()"
      ]
    },
    {
      "cell_type": "code",
      "execution_count": null,
      "id": "422befbd",
      "metadata": {
        "colab": {
          "base_uri": "https://localhost:8080/"
        },
        "id": "422befbd",
        "outputId": "9761cd69-5a24-4cb2-8fe9-13e48e8c84a8"
      },
      "outputs": [
        {
          "data": {
            "text/plain": [
              "(2563,)"
            ]
          },
          "execution_count": 8,
          "metadata": {},
          "output_type": "execute_result"
        }
      ],
      "source": [
        "from torch.utils.data import DataLoader\n",
        "IMG_SIZE = 224\n",
        "BATCH_SIZE = 32\n",
        "#\n",
        "# Define class to load image data\n",
        "class load_data(torch.utils.data.Dataset):\n",
        "    def __init__(self, X_df,y):\n",
        "        self.X = X_df\n",
        "        self.y = y\n",
        "        self.T = transforms.Compose([\n",
        "                    transforms.Resize(IMG_SIZE),\n",
        "                    transforms.CenterCrop(IMG_SIZE),\n",
        "                    transforms.ToTensor()])\n",
        "    def __len__(self):\n",
        "        return len(self.X)\n",
        "\n",
        "    def __getitem__(self, index):\n",
        "        row = self.X.iloc[index]\n",
        "        img = Image.open(row['filename'])\n",
        "        return self.T(img),self.y[index]\n",
        "\n",
        "\n",
        "# load data batch by bathc\n",
        "loader = DataLoader(\n",
        "  load_data(train,y_train8),\n",
        "  batch_size = 16)\n",
        "\n",
        "y_train8.shape"
      ]
    },
    {
      "cell_type": "code",
      "execution_count": null,
      "id": "uxn-nlm9jKUd",
      "metadata": {
        "id": "uxn-nlm9jKUd"
      },
      "outputs": [],
      "source": [
        "\n",
        "# def  img_mean_and_sd(loader):\n",
        "\n",
        "#     cnt = 0\n",
        "#     fst_moment = torch.empty(3)\n",
        "#     snd_moment = torch.empty(3)\n",
        "\n",
        "#     for images, _ in loader:\n",
        "#         b, c, h, w = images.shape\n",
        "#         nb_pixels = b * h * w\n",
        "#         sum_ = torch.sum(images, dim=[0, 2, 3])\n",
        "#         sum_of_square = torch.sum(images ** 2,\n",
        "#                                   dim=[0, 2, 3])\n",
        "\n",
        "#         #comput first and second moment batch by batch\n",
        "#         fst_moment = (cnt * fst_moment + sum_) / (cnt + nb_pixels)\n",
        "#         snd_moment = (cnt * snd_moment + sum_of_square) / (cnt + nb_pixels)\n",
        "#         cnt += nb_pixels\n",
        "\n",
        "#     img_mean, img_std = fst_moment, torch.sqrt(snd_moment - fst_moment ** 2)\n",
        "#     return img_mean,img_std\n",
        "\n",
        "# img_mean, img_std = img_mean_and_sd(loader)\n",
        "# print(\"Images' mean and std: \\n\", img_mean, img_std)\n",
        "\n",
        "#updated for ClaheBen20\n",
        "img_mean=[0.4925, 0.4914, 0.4886]\n",
        "img_std=[0.1610, 0.1615, 0.1243]"
      ]
    },
    {
      "cell_type": "code",
      "execution_count": null,
      "id": "9fd3aa8c",
      "metadata": {
        "colab": {
          "base_uri": "https://localhost:8080/"
        },
        "id": "9fd3aa8c",
        "outputId": "e3cf158a-5bf1-4a8b-c5b4-616e308c4721"
      },
      "outputs": [
        {
          "name": "stdout",
          "output_type": "stream",
          "text": [
            "(1922, 3) (641, 3) (1922,) (641,)\n"
          ]
        }
      ],
      "source": [
        "# Define class to load and transform image data\n",
        "class load_data(torch.utils.data.Dataset):\n",
        "    def __init__(self, X_df, y):\n",
        "        self.X = X_df\n",
        "        self.y = y\n",
        "        self.T1 = transforms.Compose([\n",
        "                    transforms.RandomResizedCrop(IMG_SIZE),\n",
        "                    transforms.CenterCrop(IMG_SIZE),\n",
        "                    transforms.RandomHorizontalFlip(),\n",
        "                    transforms.ToTensor(),\n",
        "                    transforms.Normalize(img_mean,img_std)])\n",
        "        self.T2 = transforms.Compose([\n",
        "                    transforms.Resize(IMG_SIZE),\n",
        "                    transforms.CenterCrop(IMG_SIZE),\n",
        "                    transforms.ToTensor(),\n",
        "                    transforms.Normalize(img_mean,img_std)])\n",
        "\n",
        "    def __len__(self):\n",
        "        return len(self.X)\n",
        "\n",
        "    def __getitem__(self, index):\n",
        "        row = self.X.iloc[index]\n",
        "        img = Image.open(row['filename'])\n",
        "        if self.X.name == 'train': return self.T1(img),self.y[index]\n",
        "        else: return self.T2(img),self.y[index]\n",
        "\n",
        "\n",
        "# Prepare training and validation datasets for 8-class classfication\n",
        "X_train_8, X_valid_8, y_train_8, y_valid_8 = train_test_split(train, y_train8, test_size=0.25, random_state=SEED)\n",
        "X_train_8.name = 'train'\n",
        "X_valid_8.name = 'val'\n",
        "test.name = 'test'\n",
        "\n",
        "# reset index\n",
        "X_train_8.reset_index(inplace=True)\n",
        "X_train_8.drop(columns=['index'],inplace=True)\n",
        "X_valid_8.reset_index(inplace=True)\n",
        "X_valid_8.drop(columns=['index'],inplace=True)\n",
        "\n",
        "train_ds_8 = load_data(X_train_8,y_train_8)\n",
        "valid_ds_8 = load_data(X_valid_8,y_valid_8)\n",
        "test_ds_8 = load_data(test,y_test8)\n",
        "\n",
        "\n",
        "print(X_train_8.shape, X_valid_8.shape, y_train_8.shape, y_valid_8.shape)\n"
      ]
    },
    {
      "cell_type": "code",
      "execution_count": null,
      "id": "454cc542",
      "metadata": {
        "colab": {
          "base_uri": "https://localhost:8080/"
        },
        "id": "454cc542",
        "outputId": "74b449c5-e82a-4b7d-c8c6-6dd218c3c347"
      },
      "outputs": [
        {
          "name": "stdout",
          "output_type": "stream",
          "text": [
            "Pretrained model ready!\n"
          ]
        }
      ],
      "source": [
        "#Build resnet50 pretrained model\n",
        "class PretrainedModel(nn.Module):\n",
        "    def __init__(self, output_features):\n",
        "        super().__init__()\n",
        "        model = models.resnet50(weights=ResNet50_Weights.DEFAULT)\n",
        "        num_ftrs = model.fc.in_features\n",
        "\n",
        "        model.fc = nn.Sequential(\n",
        "             nn.Linear(num_ftrs, 1000),\n",
        "             nn.ReLU(),\n",
        "             nn.Linear(1000, 128),\n",
        "             nn.ReLU(),\n",
        "             nn.Linear(128, output_features)\n",
        "        )\n",
        "        self.model = model\n",
        "\n",
        "        #mps_device = torch.device(\"mps\")\n",
        "        # Move your model to mps just like any other device\n",
        "        #model.to(mps_device)\n",
        "\n",
        "    def forward(self, x):\n",
        "        return self.model(x)\n",
        "\n",
        "DEVICE = 'cuda'\n",
        "\n",
        "\n",
        "#prenet = PretrainedModel(2)\n",
        "print('Pretrained model ready!')\n"
      ]
    },
    {
      "cell_type": "code",
      "execution_count": null,
      "id": "Jx4RRyqRmX9s",
      "metadata": {
        "id": "Jx4RRyqRmX9s"
      },
      "outputs": [],
      "source": [
        "# Add  CSVLogger for PyTorch\n",
        "import csv\n",
        "import os\n",
        "from skorch.callbacks import Callback\n",
        "\n",
        "from skorch import NeuralNetClassifier\n",
        "from skorch.callbacks import LRScheduler, Checkpoint, TrainEndCheckpoint, ProgressBar, EpochScoring\n",
        "import torch.nn as nn\n",
        "import torch.optim as optim\n",
        "#from skorch.dataset import predefined_split\n",
        "\n",
        "\n",
        "class CSVLogger(Callback):\n",
        "    def __init__(self, filename, fieldnames):\n",
        "        self.filename = filename\n",
        "        self.fieldnames = fieldnames\n",
        "\n",
        "        # Check if the file already exists\n",
        "        file_exists = os.path.isfile(self.filename)\n",
        "\n",
        "        # Open the file in append mode\n",
        "        self.file = open(self.filename, mode='a', newline='')\n",
        "\n",
        "        # Initialize CSV writer\n",
        "        self.writer = csv.DictWriter(self.file, fieldnames=self.fieldnames)\n",
        "\n",
        "        # Write header only if the file didn't already exist\n",
        "        if not file_exists:\n",
        "            self.writer.writeheader()\n",
        "\n",
        "    def on_epoch_end(self, net, **kwargs):\n",
        "        row = {\n",
        "            'epoch': len(net.history) - 1,\n",
        "            'train_loss': net.history[-1]['train_loss'],\n",
        "            'valid_loss': net.history[-1]['valid_loss'],\n",
        "            'train_accuracy': net.history[-1]['train_accuracy'],\n",
        "            'valid_accuracy': net.history[-1]['valid_acc']\n",
        "        }\n",
        "        self.writer.writerow(row)\n",
        "        self.file.flush()  # Ensure data is written to the file\n",
        "\n",
        "    def close(self):\n",
        "        self.file.close()\n",
        "\n",
        "# Define the logger\n",
        "csv_logger = CSVLogger('training_log.csv', fieldnames=['epoch', 'train_loss', 'valid_loss', 'train_accuracy', 'valid_accuracy'])\n"
      ]
    },
    {
      "cell_type": "code",
      "execution_count": null,
      "id": "ykhWuUasazOh",
      "metadata": {
        "id": "ykhWuUasazOh"
      },
      "outputs": [],
      "source": [
        "#from skorch.callbacks import LRScheduler,Checkpoint,TrainEndCheckpoint,Freezer\n",
        "from torch.optim.lr_scheduler import CyclicLR\n",
        "\n",
        "lrscheduler = LRScheduler(policy='StepLR', step_size=7, gamma=0.3)\n",
        "\n",
        "freezer = Freezer(lambda x: not x.startswith('model.fc'))\n"
      ]
    },
    {
      "cell_type": "code",
      "execution_count": null,
      "id": "PiqVk-f0cl0Q",
      "metadata": {
        "id": "PiqVk-f0cl0Q"
      },
      "outputs": [],
      "source": [
        "# #Train model with SDG optimizer for 5 classes case\n",
        "# #Train the model with step LR scheduler and validate with predefined validation set\n",
        "\n",
        "# checkpoint = Checkpoint(dirname='/content/drive/MyDrive/DL/aptos_ben_clahe224_Result/SGD')\n",
        "# lrscheduler = LRScheduler(policy=CyclicLR,base_lr=0.001, max_lr=0.5,step_size_up=len(train_ds_8)//2)\n",
        "# net2 = NeuralNetClassifier(\n",
        "#     PretrainedModel(5),\n",
        "#     criterion=nn.CrossEntropyLoss,\n",
        "#     lr=0.001,\n",
        "#     batch_size=16,\n",
        "#     max_epochs=20,\n",
        "#     module__output_features=5,\n",
        "#     optimizer=optim.SGD,\n",
        "#     optimizer__momentum=0.9,\n",
        "#     iterator_train__shuffle=True,\n",
        "#     iterator_train__num_workers=2,\n",
        "#     iterator_valid__shuffle=False,\n",
        "#     iterator_valid__num_workers=2,\n",
        "#     train_split=predefined_split(valid_ds_8),\n",
        "#     callbacks=[lrscheduler, checkpoint, freezer],\n",
        "#     device = 'cuda'\n",
        "# )\n",
        "# _ = net2.fit(train_ds_8,y=None)\n"
      ]
    },
    {
      "cell_type": "code",
      "execution_count": null,
      "id": "jD2CrD2mJlhx",
      "metadata": {
        "id": "jD2CrD2mJlhx"
      },
      "outputs": [],
      "source": [
        "# #SGD: plot the train and validation loss curve\n",
        "# val_loss=[]\n",
        "# train_loss=[]\n",
        "# net2.initialize()\n",
        "# net2.load_params(f_params='/content/drive/MyDrive/DL/aptos_kaggle/SGD/params.pt',\n",
        "#                 f_history='/content/drive/MyDrive/DL/aptos_kaggle/SGD/history.json')\n",
        "# for i in range(25):\n",
        "#     val_loss.append(net2.history[i]['valid_loss'])\n",
        "#     train_loss.append(net2.history[i]['train_loss'])\n",
        "\n",
        "# plt.figure(figsize=(8,6))\n",
        "# plt.semilogy(train_loss, label='Train loss')\n",
        "# plt.semilogy(val_loss, label='Validation loss')\n",
        "# plt.xlabel('Epoch')\n",
        "# plt.ylabel('Loss')\n",
        "# plt.grid()\n",
        "# plt.legend()\n",
        "# plt.show()"
      ]
    },
    {
      "cell_type": "code",
      "execution_count": null,
      "id": "j5oOYN1VpKBA",
      "metadata": {
        "id": "j5oOYN1VpKBA"
      },
      "outputs": [],
      "source": []
    },
    {
      "cell_type": "code",
      "execution_count": null,
      "id": "ed87e081",
      "metadata": {
        "colab": {
          "base_uri": "https://localhost:8080/"
        },
        "id": "ed87e081",
        "outputId": "a38078b8-82f3-4306-cf3a-b4d296b7a819"
      },
      "outputs": [
        {
          "name": "stderr",
          "output_type": "stream",
          "text": [
            " 21%|██        | 17/82 [04:52<18:35, 17.16s/it, train_loss=1.06] "
          ]
        }
      ],
      "source": [
        "#Train model with Adam optimizer for 5 classes case\n",
        "#Train the model with step LR scheduler and validate with predefined validation set\n",
        "\n",
        "lrscheduler = LRScheduler(policy='StepLR', step_size=5, gamma=0.5)\n",
        "cp = Checkpoint(dirname='/content/drive/MyDrive/DL/aptos_ben_clahe224/Adam')\n",
        "train_end_cp = TrainEndCheckpoint(dirname='/content/drive/MyDrive/DL/aptos_ben_clahe224/Adam')\n",
        "\n",
        "net = NeuralNetClassifier(\n",
        "    PretrainedModel(5),\n",
        "    criterion=nn.CrossEntropyLoss,\n",
        "    lr=0.0003,\n",
        "    batch_size=32,\n",
        "    max_epochs=5,\n",
        "    optimizer=optim.Adam,\n",
        "    optimizer__weight_decay=1e-4,\n",
        "    iterator_train__shuffle=True,\n",
        "    iterator_train__num_workers=2,\n",
        "    iterator_valid__shuffle=False,\n",
        "    iterator_valid__num_workers=2,\n",
        "    train_split=predefined_split(valid_ds_8),\n",
        "    #callbacks=[lrscheduler,cp,train_end_cp],\n",
        "    #callbacks=[lrscheduler,cp,train_end_cp, ProgressBar(), checkpoint, EpochScoring(scoring='accuracy', on_train=True)],\n",
        "    callbacks=[lrscheduler,cp,train_end_cp, ProgressBar(), csv_logger,\n",
        "               EpochScoring('accuracy', on_train=True, name='train_accuracy'),\n",
        "               EpochScoring('accuracy', on_train=False, name='valid_accuracy')\n",
        "    ],\n",
        "\n",
        ")\n",
        "_ = net.fit(train_ds_8,y=None)"
      ]
    },
    {
      "cell_type": "code",
      "execution_count": null,
      "id": "V77sfJzJNKJb",
      "metadata": {
        "id": "V77sfJzJNKJb"
      },
      "outputs": [],
      "source": [
        "# #Adam: plot the train and validation loss curve\n",
        "# val_loss=[]\n",
        "# train_loss=[]\n",
        "# # net.initialize()\n",
        "# # net.load_params(f_params='/content/drive/MyDrive/DL/aptos_ben_clahe224/Adam/train_end_params.pt',\n",
        "# #                 f_history='/content/drive/MyDrive/DL/aptos_ben_clahe224/Adam/train_end_history.json')\n",
        "# for i in range(30):\n",
        "#     val_loss.append(net.history[i]['valid_loss'])\n",
        "#     train_loss.append(net.history[i]['train_loss'])\n",
        "\n",
        "# plt.figure(figsize=(8,6))\n",
        "# plt.semilogy(train_loss, label='Train loss')\n",
        "# plt.semilogy(val_loss, label='Validation loss')\n",
        "# plt.xlabel('Epoch')\n",
        "# plt.ylabel('Loss')\n",
        "# plt.grid()\n",
        "# plt.legend()\n",
        "# plt.show()"
      ]
    },
    {
      "cell_type": "code",
      "execution_count": null,
      "id": "2f15f9ea",
      "metadata": {
        "id": "2f15f9ea"
      },
      "outputs": [],
      "source": [
        "# #Prediction of 5-class classifier\n",
        "# from sklearn.metrics import accuracy_score\n",
        "# #from sklearn.model_selection import cross_val_score\n",
        "\n",
        "# net.initialize()\n",
        "# net.load_params(f_params='/content/drive/MyDrive/DL/aptos_kaggle/Adam/train_end_params.pt')\n",
        "\n",
        "# y_pred8 = net.predict(test_ds_8)\n",
        "# accuracy8 = accuracy_score(y_test8, y_pred8)\n",
        "# print(f'The test accuracy for 5-class classification: {round(accuracy8*100,2)}%')"
      ]
    },
    {
      "cell_type": "code",
      "execution_count": null,
      "id": "f2aweUcdkgKw",
      "metadata": {
        "id": "f2aweUcdkgKw"
      },
      "outputs": [],
      "source": [
        "#os.environ['CUDA_LAUNCH_BLOCKING'] = \"1\""
      ]
    },
    {
      "cell_type": "code",
      "execution_count": null,
      "id": "-XKlT_PasBcg",
      "metadata": {
        "id": "-XKlT_PasBcg"
      },
      "outputs": [],
      "source": [
        "# len(train_ds_8)"
      ]
    },
    {
      "cell_type": "code",
      "execution_count": null,
      "id": "5dfa2253",
      "metadata": {
        "id": "5dfa2253"
      },
      "outputs": [],
      "source": [
        "# from sklearn.metrics import confusion_matrix,ConfusionMatrixDisplay\n",
        "# from sklearn.metrics import classification_report\n",
        "\n",
        "# cm = confusion_matrix(y_test8, y_pred8)\n",
        "# disp = ConfusionMatrixDisplay(confusion_matrix=cm,display_labels=sub_classname)\n",
        "# disp.plot()\n",
        "# plt.show()\n",
        "# sub_classname_str = [str(x) for x in sub_classname]\n",
        "# print(classification_report(y_test8, y_pred8, target_names=sub_classname_str, digits=4))\n",
        "# per_class_accuracies = {}\n",
        "# for idx, cls in enumerate(sub_classname):\n",
        "#     true_negatives = np.sum(np.delete(np.delete(cm, idx, axis=0), idx, axis=1))\n",
        "#     true_positives = cm[idx, idx]\n",
        "#     per_class_accuracies[cls] = round((true_positives + true_negatives) / np.sum(cm)*100,2)\n",
        "#     print(f'Accuracy for {cls}: {per_class_accuracies[cls]}% ')"
      ]
    },
    {
      "cell_type": "markdown",
      "id": "ih6R63IBq4-s",
      "metadata": {
        "id": "ih6R63IBq4-s"
      },
      "source": []
    },
    {
      "cell_type": "markdown",
      "id": "t1WRti9xbyxb",
      "metadata": {
        "id": "t1WRti9xbyxb"
      },
      "source": [
        "Prepare the balanced data\n",
        "Over-sampling using SMOTE\n",
        "\n",
        "Perform over-sampling using SMOTE to increase minority class size to be same as majority class 'DC'."
      ]
    },
    {
      "cell_type": "code",
      "execution_count": null,
      "id": "a4JyYxtKq9E4",
      "metadata": {
        "colab": {
          "base_uri": "https://localhost:8080/"
        },
        "id": "a4JyYxtKq9E4",
        "outputId": "9a1c4ad1-c7e9-4b39-fc7a-03f46c515141"
      },
      "outputs": [
        {
          "name": "stdout",
          "output_type": "stream",
          "text": [
            "The train set shape before over-sampling: (3295, 3)\n",
            "After over sampling, the train set shape : (8075, 3)\n"
          ]
        }
      ],
      "source": [
        "from imblearn.over_sampling import SMOTEN\n",
        "print(f'The train set shape before over-sampling: {train.shape}')\n",
        "smote = SMOTEN(sampling_strategy='auto',random_state=SEED)\n",
        "Xtrain_sm,ytrain_sm8 = smote.fit_resample(train,y_train8)\n",
        "#ytrain_sm2 = le.transform(Xtrain_sm.main_type)\n",
        "print(f\"After over sampling, the train set shape : {Xtrain_sm.shape}\")"
      ]
    },
    {
      "cell_type": "code",
      "execution_count": null,
      "id": "VBWuXNu7rHNo",
      "metadata": {
        "colab": {
          "base_uri": "https://localhost:8080/"
        },
        "id": "VBWuXNu7rHNo",
        "outputId": "5a659ca2-c5a2-4df2-e67a-2c7a75dee6de"
      },
      "outputs": [
        {
          "data": {
            "text/plain": [
              "2    1615\n",
              "4    1615\n",
              "1    1615\n",
              "0    1615\n",
              "3    1615\n",
              "Name: diagnosis, dtype: int64"
            ]
          },
          "execution_count": 23,
          "metadata": {},
          "output_type": "execute_result"
        }
      ],
      "source": [
        "Xtrain_sm.diagnosis.value_counts()"
      ]
    },
    {
      "cell_type": "markdown",
      "id": "OM7aA2GorPXH",
      "metadata": {
        "id": "OM7aA2GorPXH"
      },
      "source": [
        "Load and transform the image data\n",
        "Apply RandomHorizontalFlip() and transforms.RandomVerticalFlip() during loading data to reduce duplicates when add more images for minority class."
      ]
    },
    {
      "cell_type": "code",
      "execution_count": null,
      "id": "A2MiAUMKrUGr",
      "metadata": {
        "id": "A2MiAUMKrUGr"
      },
      "outputs": [],
      "source": [
        "# Define class to load and transform image data\n",
        "torch.manual_seed(SEED)\n",
        "class load_data(torch.utils.data.Dataset):\n",
        "    def __init__(self, X_df, y):\n",
        "        self.X = X_df\n",
        "        self.y = y\n",
        "        self.T1 = transforms.Compose([\n",
        "                    #transforms.CenterCrop(IMG_SIZE),\n",
        "                    #transforms.Resize((IMG_SIZE,IMG_SIZE)),\n",
        "                    transforms.RandomHorizontalFlip(),\n",
        "                    transforms.RandomVerticalFlip(),\n",
        "                    transforms.RandomRotation(20),\n",
        "                    transforms.RandomRotation(60),\n",
        "                    transforms.ToTensor(),\n",
        "                    transforms.Normalize(img_mean,img_std)])\n",
        "        self.T2 = transforms.Compose([\n",
        "                    #transforms.Resize((IMG_SIZE,IMG_SIZE)),\n",
        "                    #transforms.CenterCrop(IMG_SIZE),\n",
        "                    transforms.ToTensor(),\n",
        "                    transforms.Normalize(img_mean,img_std)])\n",
        "\n",
        "    def __len__(self):\n",
        "        return len(self.X)\n",
        "\n",
        "    def __getitem__(self, index):\n",
        "        row = self.X.iloc[index]\n",
        "        img = Image.open(row['filename'])\n",
        "        if self.X.name == 'train': return self.T1(img),self.y[index]\n",
        "        else: return self.T2(img),self.y[index]\n",
        "\n",
        "# # Prepare training and validation datasets for binary classfication\n",
        "# X_train, X_valid, y_train, y_valid = train_test_split(Xtrain_sm, ytrain_sm2, test_size=0.25, random_state=SEED)\n",
        "# X_train.name = 'train'\n",
        "# X_valid.name = 'val'\n",
        "# test.name = 'test'\n",
        "# train.name = 'train'\n",
        "\n",
        "# # reset index\n",
        "# X_train.reset_index(inplace=True)\n",
        "# X_train.drop(columns=['index'],inplace=True)\n",
        "# X_valid.reset_index(inplace=True)\n",
        "# X_valid.drop(columns=['index'],inplace=True)\n",
        "\n",
        "# train_ds_sm = load_data(X_train,y_train)\n",
        "# valid_ds_sm = load_data(X_valid,y_valid)\n",
        "# test_ds = load_data(test,y_test2)\n",
        "\n",
        "# Prepare training and validation datasets for 8-class classfication, 20% for test\n",
        "X_train_8, X_valid_8, y_train_8, y_valid_8 = train_test_split(Xtrain_sm, ytrain_sm8, test_size=0.1, random_state=SEED)\n",
        "X_train_8.name = 'train'\n",
        "X_valid_8.name = 'val'\n",
        "test.name = 'test'\n",
        "\n",
        "# reset index\n",
        "X_train_8.reset_index(inplace=True)\n",
        "X_train_8.drop(columns=['index'],inplace=True)\n",
        "X_valid_8.reset_index(inplace=True)\n",
        "X_valid_8.drop(columns=['index'],inplace=True)\n",
        "\n",
        "train_ds_sm8 = load_data(X_train_8,y_train_8)\n",
        "valid_ds_sm8 = load_data(X_valid_8,y_valid_8)\n",
        "test_ds_8 = load_data(test,y_test8)"
      ]
    },
    {
      "cell_type": "code",
      "execution_count": null,
      "id": "N2BcpU9lrzEr",
      "metadata": {
        "id": "N2BcpU9lrzEr"
      },
      "outputs": [],
      "source": [
        "lrscheduler = LRScheduler(policy='StepLR', step_size=7, gamma=0.3)\n",
        "\n",
        "freezer = Freezer(lambda x: not x.startswith('model.fc'))"
      ]
    },
    {
      "cell_type": "code",
      "execution_count": null,
      "id": "lHATA15Ue9lf",
      "metadata": {
        "id": "lHATA15Ue9lf"
      },
      "outputs": [],
      "source": [
        "checkpoint = Checkpoint(dirname='/content/drive/MyDrive/DL/aptos_claheBen20-225/Adam_sm8_vgg', monitor='valid_loss_best')\n",
        "early_stopping = EarlyStopping(monitor='valid_loss', patience=5)"
      ]
    },
    {
      "cell_type": "markdown",
      "id": "ciUurOJ6r2m5",
      "metadata": {
        "id": "ciUurOJ6r2m5"
      },
      "source": [
        "Train model with Adam optimizer for 5 classes case\n",
        "Train the model with step LR scheduler and validate with predefined validation set"
      ]
    },
    {
      "cell_type": "code",
      "execution_count": null,
      "id": "NVmOs1Udr3bi",
      "metadata": {
        "id": "NVmOs1Udr3bi"
      },
      "outputs": [],
      "source": [
        "lrscheduler = LRScheduler(policy='StepLR', step_size=5, gamma=0.5)\n",
        "cp = Checkpoint(dirname='/content/drive/MyDrive/DL/aptos_claheBen20-225/Adam_sm8')\n",
        "train_end_cp = TrainEndCheckpoint(dirname='/content/drive/MyDrive/DL/aptos_claheBen20-225/Adam_sm8')\n",
        "\n",
        "net = NeuralNetClassifier(\n",
        "    PretrainedModel(5),\n",
        "    criterion=nn.CrossEntropyLoss,\n",
        "    lr=0.0003,\n",
        "    batch_size=32,\n",
        "    max_epochs=50,\n",
        "    optimizer=optim.Adam,\n",
        "    optimizer__weight_decay=1e-4,\n",
        "    iterator_train__shuffle=True,\n",
        "    iterator_train__num_workers=2,\n",
        "    iterator_valid__shuffle=False,\n",
        "    iterator_valid__num_workers=2,\n",
        "    train_split=predefined_split(valid_ds_sm8),\n",
        "    callbacks=[lrscheduler,cp,train_end_cp, ProgressBar(), checkpoint, EpochScoring(scoring='accuracy', on_train=True)],\n",
        "    #callbacks=[lrscheduler,cp,train_end_cp, ProgressBar(), checkpoint, early_stopping, EpochScoring(scoring='accuracy', on_train=True)],\n",
        "    #callbacks=[lrscheduler,cp,train_end_cp],\n",
        "    device = 'cuda'\n",
        ")\n",
        "\n",
        "#_ = net.fit(train_ds_sm8,y=None)"
      ]
    },
    {
      "cell_type": "code",
      "execution_count": null,
      "id": "yGr7iAjcJfiU",
      "metadata": {
        "colab": {
          "base_uri": "https://localhost:8080/",
          "height": 542
        },
        "id": "yGr7iAjcJfiU",
        "outputId": "f940eccc-cb88-4a5c-f7a5-254feca5d250"
      },
      "outputs": [
        {
          "data": {
            "image/png": "[encoded data removed]",
            "text/plain": [
              "<Figure size 800x600 with 1 Axes>"
            ]
          },
          "metadata": {},
          "output_type": "display_data"
        }
      ],
      "source": [
        "val_loss=[]\n",
        "train_loss=[]\n",
        "net.initialize()\n",
        "net.load_params(f_params='/content/drive/MyDrive/DL/aptos_claheBen20-225/Adam_sm8/train_end_params.pt',\n",
        "                f_history='/content/drive/MyDrive/DL/aptos_claheBen20-225/Adam_sm8/train_end_history.json')\n",
        "for i in range(50):\n",
        "    val_loss.append(net.history[i]['valid_loss'])\n",
        "    train_loss.append(net.history[i]['train_loss'])\n",
        "\n",
        "plt.figure(figsize=(8,6))\n",
        "plt.plot(train_loss, label='Train loss')\n",
        "plt.plot(val_loss, label='Validation loss')\n",
        "plt.xlabel('Epoch')\n",
        "plt.ylabel('Loss')\n",
        "plt.grid()\n",
        "plt.legend()\n",
        "plt.show()"
      ]
    },
    {
      "cell_type": "code",
      "execution_count": null,
      "id": "dyR2KX5eesIw",
      "metadata": {
        "colab": {
          "base_uri": "https://localhost:8080/",
          "height": 542
        },
        "id": "dyR2KX5eesIw",
        "outputId": "14cc10e8-6fba-4bae-9c76-1afb76b2e642"
      },
      "outputs": [
        {
          "data": {
            "image/png": "[encoded data removed]",
            "text/plain": [
              "<Figure size 800x600 with 1 Axes>"
            ]
          },
          "metadata": {},
          "output_type": "display_data"
        }
      ],
      "source": [
        "val_acc=[]\n",
        "train_acc=[]\n",
        "\n",
        "for i in range(50):\n",
        "    val_acc.append(net.history[i]['valid_acc'])\n",
        "    train_acc.append(net.history[i]['accuracy'])\n",
        "\n",
        "plt.figure(figsize=(8,6))\n",
        "plt.plot(train_acc, label='Train accuracy')\n",
        "plt.plot(val_acc, label='Validation accuracy')\n",
        "plt.xlabel('Epoch')\n",
        "plt.ylabel('Accuracy')\n",
        "plt.grid()\n",
        "plt.legend()\n",
        "plt.show()\n",
        "\n"
      ]
    },
    {
      "cell_type": "code",
      "execution_count": null,
      "id": "zcnifWL5JwSS",
      "metadata": {
        "colab": {
          "base_uri": "https://localhost:8080/"
        },
        "id": "zcnifWL5JwSS",
        "outputId": "83b0ec18-6deb-4be0-8a15-2b5766e0fac0"
      },
      "outputs": [
        {
          "name": "stdout",
          "output_type": "stream",
          "text": [
            "The test accuracy for 5-class classification: 86.07%\n"
          ]
        }
      ],
      "source": [
        "#Prediction of 5-class classifier\n",
        "from sklearn.metrics import accuracy_score\n",
        "\n",
        "#net.initialize()\n",
        "#net.load_params(f_params='/content/drive/MyDrive/DL/aptos_claheBen20-225/Adam_sm8/train_end_params.pt')\n",
        "y_pred8 = net.predict(test_ds_8)\n",
        "accuracy8 = accuracy_score(y_test8, y_pred8)\n",
        "print(f'The test accuracy for 5-class classification: {round(accuracy8*100,2)}%')"
      ]
    },
    {
      "cell_type": "code",
      "execution_count": null,
      "id": "W_I0bkHaKCrS",
      "metadata": {
        "colab": {
          "base_uri": "https://localhost:8080/",
          "height": 738
        },
        "id": "W_I0bkHaKCrS",
        "outputId": "50ff442f-c9a5-4e83-f5d8-e75b52cd8cde"
      },
      "outputs": [
        {
          "data": {
            "image/png": "[encoded data removed]",
            "text/plain": [
              "<Figure size 640x480 with 2 Axes>"
            ]
          },
          "metadata": {},
          "output_type": "display_data"
        },
        {
          "name": "stdout",
          "output_type": "stream",
          "text": [
            "              precision    recall  f1-score   support\n",
            "\n",
            "           0     0.9894    0.9842    0.9868       190\n",
            "           1     0.7045    0.7750    0.7381        40\n",
            "           2     0.7753    0.8023    0.7886        86\n",
            "           3     0.5714    0.4211    0.4848        19\n",
            "           4     0.6667    0.6452    0.6557        31\n",
            "\n",
            "    accuracy                         0.8607       366\n",
            "   macro avg     0.7415    0.7256    0.7308       366\n",
            "weighted avg     0.8589    0.8607    0.8589       366\n",
            "\n",
            "Accuracy for 0: 98.63% \n",
            "Accuracy for 1: 93.99% \n",
            "Accuracy for 2: 89.89% \n",
            "Accuracy for 3: 95.36% \n",
            "Accuracy for 4: 94.26% \n"
          ]
        }
      ],
      "source": [
        "from sklearn.metrics import confusion_matrix,ConfusionMatrixDisplay\n",
        "from sklearn.metrics import classification_report\n",
        "\n",
        "cm = confusion_matrix(y_test8, y_pred8)\n",
        "disp = ConfusionMatrixDisplay(confusion_matrix=cm,display_labels=sub_classname)\n",
        "disp.plot()\n",
        "plt.show()\n",
        "sub_classname_str = [str(x) for x in sub_classname]\n",
        "print(classification_report(y_test8, y_pred8, target_names=sub_classname_str, digits=4))\n",
        "per_class_accuracies = {}\n",
        "for idx, cls in enumerate(sub_classname):\n",
        "    true_negatives = np.sum(np.delete(np.delete(cm, idx, axis=0), idx, axis=1))\n",
        "    true_positives = cm[idx, idx]\n",
        "    per_class_accuracies[cls] = round((true_positives + true_negatives) / np.sum(cm)*100,2)\n",
        "    print(f'Accuracy for {cls}: {per_class_accuracies[cls]}% ')\n"
      ]
    }
  ],
  "metadata": {
    "accelerator": "GPU",
    "colab": {
      "gpuType": "T4",
      "machine_shape": "hm",
      "provenance": []
    },
    "kernelspec": {
      "display_name": "Python 3",
      "name": "python3"
    },
    "language_info": {
      "codemirror_mode": {
        "name": "ipython",
        "version": 3
      },
      "file_extension": ".py",
      "mimetype": "text/x-python",
      "name": "python",
      "nbconvert_exporter": "python",
      "pygments_lexer": "ipython3",
      "version": "3.11.5"
    }
  },
  "nbformat": 4,
  "nbformat_minor": 5
}
