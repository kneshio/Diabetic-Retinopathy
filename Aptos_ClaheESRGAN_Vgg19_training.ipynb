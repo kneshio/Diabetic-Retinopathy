{
  "cells": [
    {
      "cell_type": "code",
      "execution_count": null,
      "id": "c041c2e7",
      "metadata": {
        "id": "c041c2e7"
      },
      "outputs": [],
      "source": [
        "%matplotlib inline\n",
        "import torch\n",
        "import torchvision\n",
        "import torch.nn as nn\n",
        "import torch.optim as optim\n",
        "from torch.utils.data import DataLoader\n",
        "from torchvision import datasets, models, transforms\n",
        "from torchvision.models import resnet50, ResNet50_Weights\n",
        "import os\n",
        "import numpy as np\n",
        "import pandas as pd\n",
        "import seaborn as sb\n",
        "import matplotlib.pyplot as plt\n",
        "from sklearn import metrics\n",
        "from sklearn.linear_model import LogisticRegressionCV\n",
        "from sklearn.model_selection import train_test_split\n",
        "from PIL import Image\n",
        "\n",
        "SEED = 1234"
      ]
    },
    {
      "cell_type": "code",
      "execution_count": null,
      "id": "08926fcd",
      "metadata": {
        "colab": {
          "base_uri": "https://localhost:8080/"
        },
        "id": "08926fcd",
        "outputId": "fdf18c0b-d9ff-499c-9f98-eb897cd2ae47"
      },
      "outputs": [
        {
          "name": "stdout",
          "output_type": "stream",
          "text": [
            "Collecting skorch\n",
            "  Downloading skorch-0.15.0-py3-none-any.whl (239 kB)\n",
            "\u001b[?25l     \u001b[90m━━━━━━━━━━━━━━━━━━━━━━━━━━━━━━━━━━━━━━━━\u001b[0m \u001b[32m0.0/239.3 kB\u001b[0m \u001b[31m?\u001b[0m eta \u001b[36m-:--:--\u001b[0m\r\u001b[2K     \u001b[91m━━━━━━━━━━━━━━━━━━━━━━━━━━━━━━━━━━━━━━━\u001b[0m\u001b[90m╺\u001b[0m \u001b[32m235.5/239.3 kB\u001b[0m \u001b[31m7.7 MB/s\u001b[0m eta \u001b[36m0:00:01\u001b[0m\r\u001b[2K     \u001b[90m━━━━━━━━━━━━━━━━━━━━━━━━━━━━━━━━━━━━━━━━\u001b[0m \u001b[32m239.3/239.3 kB\u001b[0m \u001b[31m6.1 MB/s\u001b[0m eta \u001b[36m0:00:00\u001b[0m\n",
            "\u001b[?25hRequirement already satisfied: numpy>=1.13.3 in /usr/local/lib/python3.10/dist-packages (from skorch) (1.25.2)\n",
            "Requirement already satisfied: scikit-learn>=0.22.0 in /usr/local/lib/python3.10/dist-packages (from skorch) (1.2.2)\n",
            "Requirement already satisfied: scipy>=1.1.0 in /usr/local/lib/python3.10/dist-packages (from skorch) (1.11.4)\n",
            "Requirement already satisfied: tabulate>=0.7.7 in /usr/local/lib/python3.10/dist-packages (from skorch) (0.9.0)\n",
            "Requirement already satisfied: tqdm>=4.14.0 in /usr/local/lib/python3.10/dist-packages (from skorch) (4.66.2)\n",
            "Requirement already satisfied: joblib>=1.1.1 in /usr/local/lib/python3.10/dist-packages (from scikit-learn>=0.22.0->skorch) (1.3.2)\n",
            "Requirement already satisfied: threadpoolctl>=2.0.0 in /usr/local/lib/python3.10/dist-packages (from scikit-learn>=0.22.0->skorch) (3.3.0)\n",
            "Installing collected packages: skorch\n",
            "Successfully installed skorch-0.15.0\n"
          ]
        }
      ],
      "source": [
        "# install skorch\n",
        "!pip install skorch\n",
        "from skorch import NeuralNetClassifier\n",
        "from skorch.helper import predefined_split"
      ]
    },
    {
      "cell_type": "markdown",
      "id": "a621d005",
      "metadata": {
        "id": "a621d005"
      },
      "source": [
        "Exploratory Data Analysis\n",
        "The file Folds.csv contains all image files' path and filename. It includes a 5-fold cross-validation strategy. I will read it into a dataframe and find each file's main type label(benign or malignant) and sub-type label.\n"
      ]
    },
    {
      "cell_type": "code",
      "execution_count": null,
      "id": "iPfUOCeOwsqo",
      "metadata": {
        "colab": {
          "base_uri": "https://localhost:8080/"
        },
        "id": "iPfUOCeOwsqo",
        "outputId": "b74144ce-6030-4c9e-db41-0dea397a73f2"
      },
      "outputs": [
        {
          "name": "stdout",
          "output_type": "stream",
          "text": [
            "Mounted at /content/drive\n"
          ]
        }
      ],
      "source": [
        "from google.colab import drive\n",
        "drive.mount('/content/drive')"
      ]
    },
    {
      "cell_type": "code",
      "execution_count": null,
      "id": "2b7c0c16",
      "metadata": {
        "colab": {
          "base_uri": "https://localhost:8080/",
          "height": 419
        },
        "id": "2b7c0c16",
        "outputId": "3285772d-4bbd-4ae7-fb1d-3785ea4b2976"
      },
      "outputs": [
        {
          "data": {
            "application/vnd.google.colaboratory.intrinsic+json": {
              "summary": "{\n  \"name\": \"fold_data\",\n  \"rows\": 3661,\n  \"fields\": [\n    {\n      \"column\": \"id_code\",\n      \"properties\": {\n        \"dtype\": \"string\",\n        \"num_unique_values\": 3661,\n        \"samples\": [\n          \"15f8d769935c\",\n          \"14515b8f19b6\",\n          \"0afbeeef0ff7\"\n        ],\n        \"semantic_type\": \"\",\n        \"description\": \"\"\n      }\n    },\n    {\n      \"column\": \"diagnosis\",\n      \"properties\": {\n        \"dtype\": \"number\",\n        \"std\": 1,\n        \"min\": 0,\n        \"max\": 4,\n        \"num_unique_values\": 5,\n        \"samples\": [\n          4,\n          3,\n          1\n        ],\n        \"semantic_type\": \"\",\n        \"description\": \"\"\n      }\n    },\n    {\n      \"column\": \"filename\",\n      \"properties\": {\n        \"dtype\": \"string\",\n        \"num_unique_values\": 3661,\n        \"samples\": [\n          \"/content/drive/MyDrive/DL/aptos_clahe_GFPGAN224/train_images/15f8d769935c.png\",\n          \"/content/drive/MyDrive/DL/aptos_clahe_GFPGAN224/train_images/14515b8f19b6.png\",\n          \"/content/drive/MyDrive/DL/aptos_clahe_GFPGAN224/train_images/0afbeeef0ff7.png\"\n        ],\n        \"semantic_type\": \"\",\n        \"description\": \"\"\n      }\n    }\n  ]\n}",
              "type": "dataframe",
              "variable_name": "fold_data"
            },
            "text/html": [
              "\n",
              "  <div id=\"df-6e15f500-560c-4557-b54f-b14c797b491e\" class=\"colab-df-container\">\n",
              "    <div>\n",
              "<style scoped>\n",
              "    .dataframe tbody tr th:only-of-type {\n",
              "        vertical-align: middle;\n",
              "    }\n",
              "\n",
              "    .dataframe tbody tr th {\n",
              "        vertical-align: top;\n",
              "    }\n",
              "\n",
              "    .dataframe thead th {\n",
              "        text-align: right;\n",
              "    }\n",
              "</style>\n",
              "<table border=\"1\" class=\"dataframe\">\n",
              "  <thead>\n",
              "    <tr style=\"text-align: right;\">\n",
              "      <th></th>\n",
              "      <th>id_code</th>\n",
              "      <th>diagnosis</th>\n",
              "      <th>filename</th>\n",
              "    </tr>\n",
              "  </thead>\n",
              "  <tbody>\n",
              "    <tr>\n",
              "      <th>0</th>\n",
              "      <td>000c1434d8d7</td>\n",
              "      <td>2</td>\n",
              "      <td>/content/drive/MyDrive/DL/aptos_clahe_GFPGAN22...</td>\n",
              "    </tr>\n",
              "    <tr>\n",
              "      <th>1</th>\n",
              "      <td>001639a390f0</td>\n",
              "      <td>4</td>\n",
              "      <td>/content/drive/MyDrive/DL/aptos_clahe_GFPGAN22...</td>\n",
              "    </tr>\n",
              "    <tr>\n",
              "      <th>2</th>\n",
              "      <td>0024cdab0c1e</td>\n",
              "      <td>1</td>\n",
              "      <td>/content/drive/MyDrive/DL/aptos_clahe_GFPGAN22...</td>\n",
              "    </tr>\n",
              "    <tr>\n",
              "      <th>3</th>\n",
              "      <td>002c21358ce6</td>\n",
              "      <td>0</td>\n",
              "      <td>/content/drive/MyDrive/DL/aptos_clahe_GFPGAN22...</td>\n",
              "    </tr>\n",
              "    <tr>\n",
              "      <th>4</th>\n",
              "      <td>005b95c28852</td>\n",
              "      <td>0</td>\n",
              "      <td>/content/drive/MyDrive/DL/aptos_clahe_GFPGAN22...</td>\n",
              "    </tr>\n",
              "    <tr>\n",
              "      <th>...</th>\n",
              "      <td>...</td>\n",
              "      <td>...</td>\n",
              "      <td>...</td>\n",
              "    </tr>\n",
              "    <tr>\n",
              "      <th>3656</th>\n",
              "      <td>ffa47f6a7bf4</td>\n",
              "      <td>2</td>\n",
              "      <td>/content/drive/MyDrive/DL/aptos_clahe_GFPGAN22...</td>\n",
              "    </tr>\n",
              "    <tr>\n",
              "      <th>3657</th>\n",
              "      <td>ffc04fed30e6</td>\n",
              "      <td>0</td>\n",
              "      <td>/content/drive/MyDrive/DL/aptos_clahe_GFPGAN22...</td>\n",
              "    </tr>\n",
              "    <tr>\n",
              "      <th>3658</th>\n",
              "      <td>ffcf7b45f213</td>\n",
              "      <td>2</td>\n",
              "      <td>/content/drive/MyDrive/DL/aptos_clahe_GFPGAN22...</td>\n",
              "    </tr>\n",
              "    <tr>\n",
              "      <th>3659</th>\n",
              "      <td>ffd97f8cd5aa</td>\n",
              "      <td>0</td>\n",
              "      <td>/content/drive/MyDrive/DL/aptos_clahe_GFPGAN22...</td>\n",
              "    </tr>\n",
              "    <tr>\n",
              "      <th>3660</th>\n",
              "      <td>ffec9a18a3ce</td>\n",
              "      <td>2</td>\n",
              "      <td>/content/drive/MyDrive/DL/aptos_clahe_GFPGAN22...</td>\n",
              "    </tr>\n",
              "  </tbody>\n",
              "</table>\n",
              "<p>3661 rows × 3 columns</p>\n",
              "</div>\n",
              "    <div class=\"colab-df-buttons\">\n",
              "\n",
              "  <div class=\"colab-df-container\">\n",
              "    <button class=\"colab-df-convert\" onclick=\"convertToInteractive('df-6e15f500-560c-4557-b54f-b14c797b491e')\"\n",
              "            title=\"Convert this dataframe to an interactive table.\"\n",
              "            style=\"display:none;\">\n",
              "\n",
              "  <svg xmlns=\"http://www.w3.org/2000/svg\" height=\"24px\" viewBox=\"0 -960 960 960\">\n",
              "    <path d=\"M120-120v-720h720v720H120Zm60-500h600v-160H180v160Zm220 220h160v-160H400v160Zm0 220h160v-160H400v160ZM180-400h160v-160H180v160Zm440 0h160v-160H620v160ZM180-180h160v-160H180v160Zm440 0h160v-160H620v160Z\"/>\n",
              "  </svg>\n",
              "    </button>\n",
              "\n",
              "  <style>\n",
              "    .colab-df-container {\n",
              "      display:flex;\n",
              "      gap: 12px;\n",
              "    }\n",
              "\n",
              "    .colab-df-convert {\n",
              "      background-color: #E8F0FE;\n",
              "      border: none;\n",
              "      border-radius: 50%;\n",
              "      cursor: pointer;\n",
              "      display: none;\n",
              "      fill: #1967D2;\n",
              "      height: 32px;\n",
              "      padding: 0 0 0 0;\n",
              "      width: 32px;\n",
              "    }\n",
              "\n",
              "    .colab-df-convert:hover {\n",
              "      background-color: #E2EBFA;\n",
              "      box-shadow: 0px 1px 2px rgba(60, 64, 67, 0.3), 0px 1px 3px 1px rgba(60, 64, 67, 0.15);\n",
              "      fill: #174EA6;\n",
              "    }\n",
              "\n",
              "    .colab-df-buttons div {\n",
              "      margin-bottom: 4px;\n",
              "    }\n",
              "\n",
              "    [theme=dark] .colab-df-convert {\n",
              "      background-color: #3B4455;\n",
              "      fill: #D2E3FC;\n",
              "    }\n",
              "\n",
              "    [theme=dark] .colab-df-convert:hover {\n",
              "      background-color: #434B5C;\n",
              "      box-shadow: 0px 1px 3px 1px rgba(0, 0, 0, 0.15);\n",
              "      filter: drop-shadow(0px 1px 2px rgba(0, 0, 0, 0.3));\n",
              "      fill: #FFFFFF;\n",
              "    }\n",
              "  </style>\n",
              "\n",
              "    <script>\n",
              "      const buttonEl =\n",
              "        document.querySelector('#df-6e15f500-560c-4557-b54f-b14c797b491e button.colab-df-convert');\n",
              "      buttonEl.style.display =\n",
              "        google.colab.kernel.accessAllowed ? 'block' : 'none';\n",
              "\n",
              "      async function convertToInteractive(key) {\n",
              "        const element = document.querySelector('#df-6e15f500-560c-4557-b54f-b14c797b491e');\n",
              "        const dataTable =\n",
              "          await google.colab.kernel.invokeFunction('convertToInteractive',\n",
              "                                                    [key], {});\n",
              "        if (!dataTable) return;\n",
              "\n",
              "        const docLinkHtml = 'Like what you see? Visit the ' +\n",
              "          '<a target=\"_blank\" href=https://colab.research.google.com/notebooks/data_table.ipynb>data table notebook</a>'\n",
              "          + ' to learn more about interactive tables.';\n",
              "        element.innerHTML = '';\n",
              "        dataTable['output_type'] = 'display_data';\n",
              "        await google.colab.output.renderOutput(dataTable, element);\n",
              "        const docLink = document.createElement('div');\n",
              "        docLink.innerHTML = docLinkHtml;\n",
              "        element.appendChild(docLink);\n",
              "      }\n",
              "    </script>\n",
              "  </div>\n",
              "\n",
              "\n",
              "<div id=\"df-88270014-5b4b-4def-b8ff-d5f500714a72\">\n",
              "  <button class=\"colab-df-quickchart\" onclick=\"quickchart('df-88270014-5b4b-4def-b8ff-d5f500714a72')\"\n",
              "            title=\"Suggest charts\"\n",
              "            style=\"display:none;\">\n",
              "\n",
              "<svg xmlns=\"http://www.w3.org/2000/svg\" height=\"24px\"viewBox=\"0 0 24 24\"\n",
              "     width=\"24px\">\n",
              "    <g>\n",
              "        <path d=\"M19 3H5c-1.1 0-2 .9-2 2v14c0 1.1.9 2 2 2h14c1.1 0 2-.9 2-2V5c0-1.1-.9-2-2-2zM9 17H7v-7h2v7zm4 0h-2V7h2v10zm4 0h-2v-4h2v4z\"/>\n",
              "    </g>\n",
              "</svg>\n",
              "  </button>\n",
              "\n",
              "<style>\n",
              "  .colab-df-quickchart {\n",
              "      --bg-color: #E8F0FE;\n",
              "      --fill-color: #1967D2;\n",
              "      --hover-bg-color: #E2EBFA;\n",
              "      --hover-fill-color: #174EA6;\n",
              "      --disabled-fill-color: #AAA;\n",
              "      --disabled-bg-color: #DDD;\n",
              "  }\n",
              "\n",
              "  [theme=dark] .colab-df-quickchart {\n",
              "      --bg-color: #3B4455;\n",
              "      --fill-color: #D2E3FC;\n",
              "      --hover-bg-color: #434B5C;\n",
              "      --hover-fill-color: #FFFFFF;\n",
              "      --disabled-bg-color: #3B4455;\n",
              "      --disabled-fill-color: #666;\n",
              "  }\n",
              "\n",
              "  .colab-df-quickchart {\n",
              "    background-color: var(--bg-color);\n",
              "    border: none;\n",
              "    border-radius: 50%;\n",
              "    cursor: pointer;\n",
              "    display: none;\n",
              "    fill: var(--fill-color);\n",
              "    height: 32px;\n",
              "    padding: 0;\n",
              "    width: 32px;\n",
              "  }\n",
              "\n",
              "  .colab-df-quickchart:hover {\n",
              "    background-color: var(--hover-bg-color);\n",
              "    box-shadow: 0 1px 2px rgba(60, 64, 67, 0.3), 0 1px 3px 1px rgba(60, 64, 67, 0.15);\n",
              "    fill: var(--button-hover-fill-color);\n",
              "  }\n",
              "\n",
              "  .colab-df-quickchart-complete:disabled,\n",
              "  .colab-df-quickchart-complete:disabled:hover {\n",
              "    background-color: var(--disabled-bg-color);\n",
              "    fill: var(--disabled-fill-color);\n",
              "    box-shadow: none;\n",
              "  }\n",
              "\n",
              "  .colab-df-spinner {\n",
              "    border: 2px solid var(--fill-color);\n",
              "    border-color: transparent;\n",
              "    border-bottom-color: var(--fill-color);\n",
              "    animation:\n",
              "      spin 1s steps(1) infinite;\n",
              "  }\n",
              "\n",
              "  @keyframes spin {\n",
              "    0% {\n",
              "      border-color: transparent;\n",
              "      border-bottom-color: var(--fill-color);\n",
              "      border-left-color: var(--fill-color);\n",
              "    }\n",
              "    20% {\n",
              "      border-color: transparent;\n",
              "      border-left-color: var(--fill-color);\n",
              "      border-top-color: var(--fill-color);\n",
              "    }\n",
              "    30% {\n",
              "      border-color: transparent;\n",
              "      border-left-color: var(--fill-color);\n",
              "      border-top-color: var(--fill-color);\n",
              "      border-right-color: var(--fill-color);\n",
              "    }\n",
              "    40% {\n",
              "      border-color: transparent;\n",
              "      border-right-color: var(--fill-color);\n",
              "      border-top-color: var(--fill-color);\n",
              "    }\n",
              "    60% {\n",
              "      border-color: transparent;\n",
              "      border-right-color: var(--fill-color);\n",
              "    }\n",
              "    80% {\n",
              "      border-color: transparent;\n",
              "      border-right-color: var(--fill-color);\n",
              "      border-bottom-color: var(--fill-color);\n",
              "    }\n",
              "    90% {\n",
              "      border-color: transparent;\n",
              "      border-bottom-color: var(--fill-color);\n",
              "    }\n",
              "  }\n",
              "</style>\n",
              "\n",
              "  <script>\n",
              "    async function quickchart(key) {\n",
              "      const quickchartButtonEl =\n",
              "        document.querySelector('#' + key + ' button');\n",
              "      quickchartButtonEl.disabled = true;  // To prevent multiple clicks.\n",
              "      quickchartButtonEl.classList.add('colab-df-spinner');\n",
              "      try {\n",
              "        const charts = await google.colab.kernel.invokeFunction(\n",
              "            'suggestCharts', [key], {});\n",
              "      } catch (error) {\n",
              "        console.error('Error during call to suggestCharts:', error);\n",
              "      }\n",
              "      quickchartButtonEl.classList.remove('colab-df-spinner');\n",
              "      quickchartButtonEl.classList.add('colab-df-quickchart-complete');\n",
              "    }\n",
              "    (() => {\n",
              "      let quickchartButtonEl =\n",
              "        document.querySelector('#df-88270014-5b4b-4def-b8ff-d5f500714a72 button');\n",
              "      quickchartButtonEl.style.display =\n",
              "        google.colab.kernel.accessAllowed ? 'block' : 'none';\n",
              "    })();\n",
              "  </script>\n",
              "</div>\n",
              "\n",
              "  <div id=\"id_fab19f7f-c456-4ad5-8e4e-73eea5522960\">\n",
              "    <style>\n",
              "      .colab-df-generate {\n",
              "        background-color: #E8F0FE;\n",
              "        border: none;\n",
              "        border-radius: 50%;\n",
              "        cursor: pointer;\n",
              "        display: none;\n",
              "        fill: #1967D2;\n",
              "        height: 32px;\n",
              "        padding: 0 0 0 0;\n",
              "        width: 32px;\n",
              "      }\n",
              "\n",
              "      .colab-df-generate:hover {\n",
              "        background-color: #E2EBFA;\n",
              "        box-shadow: 0px 1px 2px rgba(60, 64, 67, 0.3), 0px 1px 3px 1px rgba(60, 64, 67, 0.15);\n",
              "        fill: #174EA6;\n",
              "      }\n",
              "\n",
              "      [theme=dark] .colab-df-generate {\n",
              "        background-color: #3B4455;\n",
              "        fill: #D2E3FC;\n",
              "      }\n",
              "\n",
              "      [theme=dark] .colab-df-generate:hover {\n",
              "        background-color: #434B5C;\n",
              "        box-shadow: 0px 1px 3px 1px rgba(0, 0, 0, 0.15);\n",
              "        filter: drop-shadow(0px 1px 2px rgba(0, 0, 0, 0.3));\n",
              "        fill: #FFFFFF;\n",
              "      }\n",
              "    </style>\n",
              "    <button class=\"colab-df-generate\" onclick=\"generateWithVariable('fold_data')\"\n",
              "            title=\"Generate code using this dataframe.\"\n",
              "            style=\"display:none;\">\n",
              "\n",
              "  <svg xmlns=\"http://www.w3.org/2000/svg\" height=\"24px\"viewBox=\"0 0 24 24\"\n",
              "       width=\"24px\">\n",
              "    <path d=\"M7,19H8.4L18.45,9,17,7.55,7,17.6ZM5,21V16.75L18.45,3.32a2,2,0,0,1,2.83,0l1.4,1.43a1.91,1.91,0,0,1,.58,1.4,1.91,1.91,0,0,1-.58,1.4L9.25,21ZM18.45,9,17,7.55Zm-12,3A5.31,5.31,0,0,0,4.9,8.1,5.31,5.31,0,0,0,1,6.5,5.31,5.31,0,0,0,4.9,4.9,5.31,5.31,0,0,0,6.5,1,5.31,5.31,0,0,0,8.1,4.9,5.31,5.31,0,0,0,12,6.5,5.46,5.46,0,0,0,6.5,12Z\"/>\n",
              "  </svg>\n",
              "    </button>\n",
              "    <script>\n",
              "      (() => {\n",
              "      const buttonEl =\n",
              "        document.querySelector('#id_fab19f7f-c456-4ad5-8e4e-73eea5522960 button.colab-df-generate');\n",
              "      buttonEl.style.display =\n",
              "        google.colab.kernel.accessAllowed ? 'block' : 'none';\n",
              "\n",
              "      buttonEl.onclick = () => {\n",
              "        google.colab.notebook.generateWithVariable('fold_data');\n",
              "      }\n",
              "      })();\n",
              "    </script>\n",
              "  </div>\n",
              "\n",
              "    </div>\n",
              "  </div>\n"
            ],
            "text/plain": [
              "           id_code  diagnosis  \\\n",
              "0     000c1434d8d7          2   \n",
              "1     001639a390f0          4   \n",
              "2     0024cdab0c1e          1   \n",
              "3     002c21358ce6          0   \n",
              "4     005b95c28852          0   \n",
              "...            ...        ...   \n",
              "3656  ffa47f6a7bf4          2   \n",
              "3657  ffc04fed30e6          0   \n",
              "3658  ffcf7b45f213          2   \n",
              "3659  ffd97f8cd5aa          0   \n",
              "3660  ffec9a18a3ce          2   \n",
              "\n",
              "                                               filename  \n",
              "0     /content/drive/MyDrive/DL/aptos_clahe_GFPGAN22...  \n",
              "1     /content/drive/MyDrive/DL/aptos_clahe_GFPGAN22...  \n",
              "2     /content/drive/MyDrive/DL/aptos_clahe_GFPGAN22...  \n",
              "3     /content/drive/MyDrive/DL/aptos_clahe_GFPGAN22...  \n",
              "4     /content/drive/MyDrive/DL/aptos_clahe_GFPGAN22...  \n",
              "...                                                 ...  \n",
              "3656  /content/drive/MyDrive/DL/aptos_clahe_GFPGAN22...  \n",
              "3657  /content/drive/MyDrive/DL/aptos_clahe_GFPGAN22...  \n",
              "3658  /content/drive/MyDrive/DL/aptos_clahe_GFPGAN22...  \n",
              "3659  /content/drive/MyDrive/DL/aptos_clahe_GFPGAN22...  \n",
              "3660  /content/drive/MyDrive/DL/aptos_clahe_GFPGAN22...  \n",
              "\n",
              "[3661 rows x 3 columns]"
            ]
          },
          "execution_count": 4,
          "metadata": {},
          "output_type": "execute_result"
        }
      ],
      "source": [
        "fold_data = pd.read_csv(\"/content/drive/MyDrive/DL/aptos_kaggle/train2.csv\")\n",
        "# Get the real path of file in kaggle\n",
        "fold_data['filename'] = (\"/content/drive/MyDrive/DL/aptos_clahe_GFPGAN224/train_images/\"+fold_data[\"id_code\"]+\".png\")\n",
        "#Find the main type label and sub type label for each image\n",
        "fold_data[\"diagnosis\"] = fold_data[\"diagnosis\"]\n",
        "fold_data"
      ]
    },
    {
      "cell_type": "code",
      "execution_count": null,
      "id": "80ebb736",
      "metadata": {
        "colab": {
          "base_uri": "https://localhost:8080/"
        },
        "id": "80ebb736",
        "outputId": "8169d4fd-47cd-4517-aa2e-e0b2e4663a3b"
      },
      "outputs": [
        {
          "data": {
            "text/plain": [
              "((3295, 3), (366, 3))"
            ]
          },
          "execution_count": 5,
          "metadata": {},
          "output_type": "execute_result"
        }
      ],
      "source": [
        "#Split it into train set(70%) and test set(30%)\n",
        "img_data = fold_data\n",
        "test = img_data.sample(frac=0.1,random_state=123)\n",
        "train = img_data.drop(test.index)\n",
        "train.reset_index(inplace=True)\n",
        "train.drop(columns=['index'],inplace=True)\n",
        "test.reset_index(inplace=True)\n",
        "test.drop(columns=['index'],inplace=True)\n",
        "train.shape,test.shape"
      ]
    },
    {
      "cell_type": "code",
      "execution_count": null,
      "id": "6660d4c6",
      "metadata": {
        "colab": {
          "base_uri": "https://localhost:8080/"
        },
        "id": "6660d4c6",
        "outputId": "7eaacf30-e0ba-42c7-f02b-f184c7d6b1b1"
      },
      "outputs": [
        {
          "data": {
            "text/plain": [
              "(array([2, 4, 1, ..., 2, 0, 2]),\n",
              " array([0, 0, 2, 4, 0, 2, 0, 2, 0, 1, 1, 2, 1, 0, 4, 2, 2, 3, 0, 0, 0, 2,\n",
              "        0, 2, 0, 0, 4, 0, 2, 0, 1, 0, 2, 0, 0, 0, 0, 0, 0, 2, 4, 0, 2, 0,\n",
              "        0, 0, 1, 0, 0, 2, 0, 0, 1, 3, 2, 0, 2, 4, 2, 0, 0, 4, 0, 0, 0, 1,\n",
              "        0, 0, 2, 0, 2, 0, 0, 2, 0, 4, 4, 0, 0, 2, 0, 3, 4, 1, 4, 3, 0, 2,\n",
              "        0, 4, 2, 0, 0, 4, 1, 0, 0, 0, 4, 0, 1, 2, 1, 2, 0, 2, 1, 2, 1, 2,\n",
              "        0, 2, 1, 0, 0, 2, 0, 0, 0, 0, 0, 0, 0, 3, 0, 0, 0, 0, 1, 1, 2, 0,\n",
              "        2, 2, 0, 0, 0, 1, 0, 2, 0, 2, 0, 0, 0, 0, 2, 0, 0, 4, 0, 1, 0, 0,\n",
              "        0, 0, 2, 0, 1, 2, 0, 0, 0, 1, 4, 0, 0, 0, 2, 1, 0, 0, 4, 0, 2, 1,\n",
              "        0, 0, 0, 2, 0, 2, 2, 0, 3, 3, 0, 0, 3, 2, 0, 2, 2, 2, 4, 2, 3, 0,\n",
              "        0, 2, 0, 0, 2, 0, 4, 0, 4, 0, 0, 2, 0, 0, 4, 0, 0, 4, 0, 1, 2, 0,\n",
              "        4, 2, 2, 0, 2, 2, 3, 0, 1, 2, 0, 2, 0, 0, 0, 0, 2, 0, 2, 1, 0, 0,\n",
              "        4, 2, 1, 3, 0, 1, 0, 2, 1, 4, 2, 0, 3, 1, 0, 4, 0, 2, 1, 0, 0, 0,\n",
              "        0, 4, 2, 1, 0, 0, 0, 0, 0, 3, 0, 0, 2, 2, 1, 0, 0, 0, 0, 0, 0, 0,\n",
              "        2, 0, 3, 0, 0, 2, 2, 0, 3, 3, 0, 0, 0, 0, 4, 0, 2, 4, 2, 0, 0, 0,\n",
              "        0, 2, 2, 2, 4, 0, 2, 3, 1, 0, 0, 0, 0, 0, 0, 0, 1, 0, 0, 0, 0, 0,\n",
              "        0, 2, 0, 0, 2, 0, 0, 2, 1, 1, 1, 0, 4, 0, 0, 1, 3, 2, 0, 3, 2, 0,\n",
              "        4, 0, 2, 2, 1, 0, 2, 2, 0, 2, 2, 1, 0, 0]))"
            ]
          },
          "execution_count": 6,
          "metadata": {},
          "output_type": "execute_result"
        }
      ],
      "source": [
        "from sklearn import preprocessing\n",
        "# le = preprocessing.LabelEncoder()\n",
        "# y_train2 = le.fit_transform(train.main_type)\n",
        "# y_test2 = le.transform(test.main_type)\n",
        "# main_classname = list(le.classes_)\n",
        "\n",
        "le1 = preprocessing.LabelEncoder()\n",
        "y_train8 = le1.fit_transform(train.diagnosis)\n",
        "y_test8 = le1.transform(test.diagnosis)\n",
        "sub_classname = list(le1.classes_)\n",
        "\n",
        "\n",
        "y_train8,y_test8"
      ]
    },
    {
      "cell_type": "code",
      "execution_count": null,
      "id": "7490f424",
      "metadata": {
        "colab": {
          "base_uri": "https://localhost:8080/",
          "height": 407
        },
        "id": "7490f424",
        "outputId": "79d7117f-c86b-4968-abf6-d702cda10b40"
      },
      "outputs": [
        {
          "data": {
            "image/png": "[encoded data removed]",
            "text/plain": [
              "<Figure size 800x400 with 2 Axes>"
            ]
          },
          "metadata": {},
          "output_type": "display_data"
        }
      ],
      "source": [
        "fig, ax = plt.subplots(ncols=2, figsize=(8, 4), tight_layout=True)\n",
        "\n",
        "# Plot image count/prop in each main type\n",
        "main_whole = img_data[\"diagnosis\"].value_counts(ascending=True)\n",
        "ax[0].bar(main_whole.index,main_whole,color=[\"red\", \"blue\",\"green\",\"skyblue\", \"hotpink\"])\n",
        "ax[0].bar_label(ax[0].containers[0], padding=2,\n",
        "             labels=[f\"{x:,} ({x/len(img_data):.2%})\" for x in main_whole])\n",
        "ax[0].set_title(\"Count of labled images in whole set\", size=12, pad=15)\n",
        "\n",
        "# Plot image count/prop in each sub type\n",
        "main_train = train[\"diagnosis\"].value_counts(ascending=True)\n",
        "ax[1].bar(main_train.index,main_train,color=[\"red\", \"blue\",\"green\",\"skyblue\", \"hotpink\"], alpha=0.8)\n",
        "ax[1].bar_label(ax[1].containers[0], padding=2,\n",
        "             labels=[f\"{x:,} ({x/len(train):.2%})\" for x in main_train])\n",
        "ax[1].set_title(\"Count of labled images in train set\", size=12, pad=15)\n",
        "plt.show()"
      ]
    },
    {
      "cell_type": "code",
      "execution_count": null,
      "id": "5d4ddb75",
      "metadata": {
        "colab": {
          "base_uri": "https://localhost:8080/",
          "height": 507
        },
        "id": "5d4ddb75",
        "outputId": "5803b601-96e1-4717-a0bd-d122bb4f4cad"
      },
      "outputs": [
        {
          "data": {
            "image/png": "[encoded data removed]",
            "text/plain": [
              "<Figure size 1000x500 with 2 Axes>"
            ]
          },
          "metadata": {},
          "output_type": "display_data"
        }
      ],
      "source": [
        "fig, ax = plt.subplots(nrows=2, figsize=(10, 5), tight_layout=True)\n",
        "# Plot image count/prop in each sub type for whole set\n",
        "sub_whole = img_data[\"diagnosis\"].value_counts(ascending=True)\n",
        "ax[0].bar(sub_whole.index,sub_whole)\n",
        "ax[0].bar_label(ax[0].containers[0], padding=2,\n",
        "             labels=[f\"{x:,} ({x/len(img_data):.2%})\" for x in sub_whole])\n",
        "ax[0].set_title(\"Count of labled images in whole set\", size=12, pad=15)\n",
        "\n",
        "# Plot image count/prop in each sub type for train set\n",
        "sub_train = train[\"diagnosis\"].value_counts(ascending=True)\n",
        "ax[1].bar(sub_train.index,sub_train, alpha=0.8)\n",
        "ax[1].bar_label(ax[1].containers[0], padding=2,\n",
        "             labels=[f\"{x:,} ({x/len(train):.2%})\" for x in sub_train])\n",
        "ax[1].set_title(\"Count of labled images in train set\", size=12, pad=15)\n",
        "plt.show()"
      ]
    },
    {
      "cell_type": "code",
      "execution_count": null,
      "id": "422befbd",
      "metadata": {
        "colab": {
          "base_uri": "https://localhost:8080/"
        },
        "id": "422befbd",
        "outputId": "d9c4bdcd-6692-4858-f675-04aea8f9b0b5"
      },
      "outputs": [
        {
          "data": {
            "text/plain": [
              "(3295,)"
            ]
          },
          "execution_count": 9,
          "metadata": {},
          "output_type": "execute_result"
        }
      ],
      "source": [
        "from torch.utils.data import DataLoader\n",
        "IMG_SIZE = 224\n",
        "BATCH_SIZE = 32\n",
        "#\n",
        "# Define class to load image data\n",
        "class load_data(torch.utils.data.Dataset):\n",
        "    def __init__(self, X_df,y):\n",
        "        self.X = X_df\n",
        "        self.y = y\n",
        "        self.T = transforms.Compose([\n",
        "                    transforms.Resize(IMG_SIZE),\n",
        "                    transforms.CenterCrop(IMG_SIZE),\n",
        "                    transforms.ToTensor()])\n",
        "    def __len__(self):\n",
        "        return len(self.X)\n",
        "\n",
        "    def __getitem__(self, index):\n",
        "        row = self.X.iloc[index]\n",
        "        img = Image.open(row['filename'])\n",
        "        return self.T(img),self.y[index]\n",
        "\n",
        "\n",
        "# load data batch by bathc\n",
        "loader = DataLoader(\n",
        "  load_data(train,y_train8),\n",
        "  batch_size = 16)\n",
        "\n",
        "y_train8.shape"
      ]
    },
    {
      "cell_type": "code",
      "execution_count": null,
      "id": "uxn-nlm9jKUd",
      "metadata": {
        "id": "uxn-nlm9jKUd"
      },
      "outputs": [],
      "source": [
        "\n",
        "# def  img_mean_and_sd(loader):\n",
        "\n",
        "#     cnt = 0\n",
        "#     fst_moment = torch.empty(3)\n",
        "#     snd_moment = torch.empty(3)\n",
        "\n",
        "#     for images, _ in loader:\n",
        "#         b, c, h, w = images.shape\n",
        "#         nb_pixels = b * h * w\n",
        "#         sum_ = torch.sum(images, dim=[0, 2, 3])\n",
        "#         sum_of_square = torch.sum(images ** 2,\n",
        "#                                   dim=[0, 2, 3])\n",
        "\n",
        "#         #comput first and second moment batch by batch\n",
        "#         fst_moment = (cnt * fst_moment + sum_) / (cnt + nb_pixels)\n",
        "#         snd_moment = (cnt * snd_moment + sum_of_square) / (cnt + nb_pixels)\n",
        "#         cnt += nb_pixels\n",
        "\n",
        "#     img_mean, img_std = fst_moment, torch.sqrt(snd_moment - fst_moment ** 2)\n",
        "#     return img_mean,img_std\n",
        "\n",
        "# img_mean, img_std = img_mean_and_sd(loader)\n",
        "# print(\"Images' mean and std: \\n\", img_mean, img_std)\n",
        "\n",
        "\n",
        "img_mean=[0.4353, 0.4354, 0.4357]\n",
        "img_std=[0.1770, 0.1878, 0.1945]"
      ]
    },
    {
      "cell_type": "code",
      "execution_count": null,
      "id": "9fd3aa8c",
      "metadata": {
        "colab": {
          "base_uri": "https://localhost:8080/"
        },
        "id": "9fd3aa8c",
        "outputId": "6c57d060-4877-4b57-a326-8efeae7ac648"
      },
      "outputs": [
        {
          "name": "stdout",
          "output_type": "stream",
          "text": [
            "(2965, 3) (330, 3) (2965,) (330,)\n"
          ]
        }
      ],
      "source": [
        "# Define class to load and transform image data\n",
        "class load_data(torch.utils.data.Dataset):\n",
        "    def __init__(self, X_df, y):\n",
        "        self.X = X_df\n",
        "        self.y = y\n",
        "        self.T1 = transforms.Compose([\n",
        "                    transforms.RandomResizedCrop(IMG_SIZE),\n",
        "                    transforms.RandomHorizontalFlip(),\n",
        "                    transforms.ToTensor(),\n",
        "                    transforms.Normalize(img_mean,img_std)])\n",
        "        self.T2 = transforms.Compose([\n",
        "                    transforms.Resize(IMG_SIZE),\n",
        "                    transforms.CenterCrop(IMG_SIZE),\n",
        "                    transforms.ToTensor(),\n",
        "                    transforms.Normalize(img_mean,img_std)])\n",
        "\n",
        "    def __len__(self):\n",
        "        return len(self.X)\n",
        "\n",
        "    def __getitem__(self, index):\n",
        "        row = self.X.iloc[index]\n",
        "        img = Image.open(row['filename'])\n",
        "        if self.X.name == 'train': return self.T1(img),self.y[index]\n",
        "        else: return self.T2(img),self.y[index]\n",
        "\n",
        "\n",
        "# Prepare training and validation datasets for 8-class classfication\n",
        "X_train_8, X_valid_8, y_train_8, y_valid_8 = train_test_split(train, y_train8, test_size=0.1, random_state=SEED)\n",
        "X_train_8.name = 'train'\n",
        "X_valid_8.name = 'val'\n",
        "test.name = 'test'\n",
        "\n",
        "# reset index\n",
        "X_train_8.reset_index(inplace=True)\n",
        "X_train_8.drop(columns=['index'],inplace=True)\n",
        "X_valid_8.reset_index(inplace=True)\n",
        "X_valid_8.drop(columns=['index'],inplace=True)\n",
        "\n",
        "train_ds_8 = load_data(X_train_8,y_train_8)\n",
        "valid_ds_8 = load_data(X_valid_8,y_valid_8)\n",
        "test_ds_8 = load_data(test,y_test8)\n",
        "\n",
        "\n",
        "print(X_train_8.shape, X_valid_8.shape, y_train_8.shape, y_valid_8.shape)\n"
      ]
    },
    {
      "cell_type": "code",
      "execution_count": null,
      "id": "454cc542",
      "metadata": {
        "colab": {
          "base_uri": "https://localhost:8080/"
        },
        "id": "454cc542",
        "outputId": "30e3f3b5-1803-4895-ad9e-62b691d797c3"
      },
      "outputs": [
        {
          "name": "stdout",
          "output_type": "stream",
          "text": [
            "Pretrained model ready!\n"
          ]
        }
      ],
      "source": [
        "#Build resnet50 pretrained model\n",
        "class PretrainedModel(nn.Module):\n",
        "    def __init__(self, output_features):\n",
        "        super().__init__()\n",
        "        model = models.resnet50(weights=ResNet50_Weights.DEFAULT)\n",
        "        num_ftrs = model.fc.in_features\n",
        "        model.fc = nn.Sequential(\n",
        "             nn.Linear(num_ftrs, 1000),\n",
        "             nn.ReLU(),\n",
        "             nn.Linear(1000, 128),\n",
        "             nn.ReLU(),\n",
        "             nn.Linear(128, output_features)\n",
        "        )\n",
        "        self.model = model\n",
        "\n",
        "\n",
        "    def forward(self, x):\n",
        "        return self.model(x)\n",
        "\n",
        "DEVICE = 'cuda'\n",
        "\n",
        "\n",
        "#prenet = PretrainedModel(2)\n",
        "print('Pretrained model ready!')\n"
      ]
    },
    {
      "cell_type": "code",
      "execution_count": null,
      "id": "gqFMgyKw_42S",
      "metadata": {
        "colab": {
          "base_uri": "https://localhost:8080/"
        },
        "id": "gqFMgyKw_42S",
        "outputId": "efad32ac-14f5-469c-9345-d1a6f55f4d3c"
      },
      "outputs": [
        {
          "name": "stdout",
          "output_type": "stream",
          "text": [
            " VGG19 Pretrained model ready!\n"
          ]
        }
      ],
      "source": [
        "#https://www.kaggle.com/code/ashfakyeafi/neural-style-transfer-pytorch\n",
        "\n",
        "from torchvision.models import vgg19, VGG19_Weights\n",
        "\n",
        "class VGG(nn.Module):\n",
        "    def __init__(self):\n",
        "        super(VGG, self).__init__()\n",
        "\n",
        "        self.chosen_features = [\"0\", \"5\", \"10\", \"19\", \"28\"]\n",
        "        #self.model = models.vgg19(pretrained=True).features[:29]\n",
        "        self.model = vgg19(weights=VGG19_Weights.DEFAULT).features.eval()\n",
        "\n",
        "    def forward(self, x):\n",
        "        features = []\n",
        "\n",
        "        for layer_num, layer in enumerate(self.model):\n",
        "            x = layer(x)\n",
        "\n",
        "            if str(layer_num) in self.chosen_features:\n",
        "                features.append(x)\n",
        "\n",
        "        return features\n",
        "\n",
        "print(' VGG19 Pretrained model ready!')"
      ]
    },
    {
      "cell_type": "code",
      "execution_count": null,
      "id": "D98zlLlNMrZ-",
      "metadata": {
        "colab": {
          "base_uri": "https://localhost:8080/"
        },
        "id": "D98zlLlNMrZ-",
        "outputId": "3219910a-f806-4fee-f333-975285bb3550"
      },
      "outputs": [
        {
          "name": "stderr",
          "output_type": "stream",
          "text": [
            "/usr/local/lib/python3.10/dist-packages/torchvision/models/_utils.py:208: UserWarning: The parameter 'pretrained' is deprecated since 0.13 and may be removed in the future, please use 'weights' instead.\n",
            "  warnings.warn(\n",
            "/usr/local/lib/python3.10/dist-packages/torchvision/models/_utils.py:223: UserWarning: Arguments other than a weight enum or `None` for 'weights' are deprecated since 0.13 and may be removed in the future. The current behavior is equivalent to passing `weights=VGG19_Weights.IMAGENET1K_V1`. You can also use `weights=VGG19_Weights.DEFAULT` to get the most up-to-date weights.\n",
            "  warnings.warn(msg)\n",
            "Downloading: \"https://download.pytorch.org/models/vgg19-dcbb9e9d.pth\" to /root/.cache/torch/hub/checkpoints/vgg19-dcbb9e9d.pth\n",
            "100%|██████████| 548M/548M [00:03<00:00, 162MB/s]\n"
          ]
        }
      ],
      "source": [
        "class HXVGG19(nn.Module):\n",
        "  def __init__(self, num_classes=5):\n",
        "    super().__init__()\n",
        "    self.model = torchvision.models.vgg19(pretrained=True)\n",
        "    in_features = self.model.classifier[-1].in_features\n",
        "    self.model.classifier[-1] = nn.Linear(in_features, num_classes)\n",
        "\n",
        "  def forward(self, x):\n",
        "    return self.model(x)\n",
        "a = HXVGG19()"
      ]
    },
    {
      "cell_type": "code",
      "execution_count": null,
      "id": "cJz_zH8LAMuX",
      "metadata": {
        "colab": {
          "base_uri": "https://localhost:8080/"
        },
        "id": "cJz_zH8LAMuX",
        "outputId": "6adcafc3-54e2-4818-95a4-98fc3ea69dc0"
      },
      "outputs": [
        {
          "data": {
            "text/plain": [
              "Sequential(\n",
              "  (0): Linear(in_features=25088, out_features=4096, bias=True)\n",
              "  (1): ReLU(inplace=True)\n",
              "  (2): Dropout(p=0.5, inplace=False)\n",
              "  (3): Linear(in_features=4096, out_features=4096, bias=True)\n",
              "  (4): ReLU(inplace=True)\n",
              "  (5): Dropout(p=0.5, inplace=False)\n",
              "  (6): Linear(in_features=4096, out_features=1000, bias=True)\n",
              ")"
            ]
          },
          "execution_count": 15,
          "metadata": {},
          "output_type": "execute_result"
        }
      ],
      "source": [
        "model = torchvision.models.vgg19(pretrained=True)\n",
        "model.classifier"
      ]
    },
    {
      "cell_type": "code",
      "execution_count": null,
      "id": "ykhWuUasazOh",
      "metadata": {
        "id": "ykhWuUasazOh"
      },
      "outputs": [],
      "source": [
        "from skorch.callbacks import LRScheduler,Checkpoint,TrainEndCheckpoint,Freezer\n",
        "from torch.optim.lr_scheduler import CyclicLR\n",
        "\n",
        "lrscheduler = LRScheduler(policy='StepLR', step_size=7, gamma=0.3)\n",
        "\n",
        "freezer = Freezer(lambda x: not x.startswith('model.fc'))\n"
      ]
    },
    {
      "cell_type": "code",
      "execution_count": null,
      "id": "PiqVk-f0cl0Q",
      "metadata": {
        "id": "PiqVk-f0cl0Q"
      },
      "outputs": [],
      "source": [
        "# #Train model with SDG optimizer for 5 classes case\n",
        "# #Train the model with step LR scheduler and validate with predefined validation set\n",
        "\n",
        "# checkpoint = Checkpoint(dirname='/content/drive/MyDrive/DL/aptos_ben_clahe224_Result/SGD')\n",
        "# lrscheduler = LRScheduler(policy=CyclicLR,base_lr=0.001, max_lr=0.5,step_size_up=len(train_ds_8)//2)\n",
        "# net2 = NeuralNetClassifier(\n",
        "#     PretrainedModel(5),\n",
        "#     criterion=nn.CrossEntropyLoss,\n",
        "#     lr=0.001,\n",
        "#     batch_size=16,\n",
        "#     max_epochs=20,\n",
        "#     module__output_features=5,\n",
        "#     optimizer=optim.SGD,\n",
        "#     optimizer__momentum=0.9,\n",
        "#     iterator_train__shuffle=True,\n",
        "#     iterator_train__num_workers=2,\n",
        "#     iterator_valid__shuffle=False,\n",
        "#     iterator_valid__num_workers=2,\n",
        "#     train_split=predefined_split(valid_ds_8),\n",
        "#     callbacks=[lrscheduler, checkpoint, freezer],\n",
        "#     device = 'cuda'\n",
        "# )\n",
        "# _ = net2.fit(train_ds_8,y=None)\n"
      ]
    },
    {
      "cell_type": "code",
      "execution_count": null,
      "id": "jD2CrD2mJlhx",
      "metadata": {
        "id": "jD2CrD2mJlhx"
      },
      "outputs": [],
      "source": [
        "# #SGD: plot the train and validation loss curve\n",
        "# val_loss=[]\n",
        "# train_loss=[]\n",
        "# net2.initialize()\n",
        "# net2.load_params(f_params='/content/drive/MyDrive/DL/aptos_kaggle/SGD/params.pt',\n",
        "#                 f_history='/content/drive/MyDrive/DL/aptos_kaggle/SGD/history.json')\n",
        "# for i in range(25):\n",
        "#     val_loss.append(net2.history[i]['valid_loss'])\n",
        "#     train_loss.append(net2.history[i]['train_loss'])\n",
        "\n",
        "# plt.figure(figsize=(8,6))\n",
        "# plt.semilogy(train_loss, label='Train loss')\n",
        "# plt.semilogy(val_loss, label='Validation loss')\n",
        "# plt.xlabel('Epoch')\n",
        "# plt.ylabel('Loss')\n",
        "# plt.grid()\n",
        "# plt.legend()\n",
        "# plt.show()"
      ]
    },
    {
      "cell_type": "code",
      "execution_count": null,
      "id": "j5oOYN1VpKBA",
      "metadata": {
        "id": "j5oOYN1VpKBA"
      },
      "outputs": [],
      "source": []
    },
    {
      "cell_type": "code",
      "execution_count": null,
      "id": "ed87e081",
      "metadata": {
        "id": "ed87e081"
      },
      "outputs": [],
      "source": [
        "# #Train model with Adam optimizer for 5 classes case\n",
        "# #Train the model with step LR scheduler and validate with predefined validation set\n",
        "\n",
        "# lrscheduler = LRScheduler(policy='StepLR', step_size=5, gamma=0.5)\n",
        "# cp = Checkpoint(dirname='/content/drive/MyDrive/DL/aptos_ben_clahe224/Adam')\n",
        "# train_end_cp = TrainEndCheckpoint(dirname='/content/drive/MyDrive/DL/aptos_ben_clahe224/Adam')\n",
        "\n",
        "# net = NeuralNetClassifier(\n",
        "#     PretrainedModel(5),\n",
        "#     criterion=nn.CrossEntropyLoss,\n",
        "#     lr=0.0003,\n",
        "#     batch_size=32,\n",
        "#     max_epochs=30,\n",
        "#     optimizer=optim.Adam,\n",
        "#     optimizer__weight_decay=1e-4,\n",
        "#     iterator_train__shuffle=True,\n",
        "#     iterator_train__num_workers=2,\n",
        "#     iterator_valid__shuffle=False,\n",
        "#     iterator_valid__num_workers=2,\n",
        "#     train_split=predefined_split(valid_ds_8),\n",
        "#     callbacks=[lrscheduler,cp,train_end_cp],\n",
        "#     device = 'cuda'\n",
        "\n",
        "# )\n",
        "\n",
        "# _ = net.fit(train_ds_8,y=None)"
      ]
    },
    {
      "cell_type": "code",
      "execution_count": null,
      "id": "V77sfJzJNKJb",
      "metadata": {
        "id": "V77sfJzJNKJb"
      },
      "outputs": [],
      "source": [
        "# #Adam: plot the train and validation loss curve\n",
        "# val_loss=[]\n",
        "# train_loss=[]\n",
        "# net.initialize()\n",
        "# net.load_params(f_params='/content/drive/MyDrive/DL/aptos_kaggle/Adam/train_end_params.pt',\n",
        "#                 f_history='/content/drive/MyDrive/DL/aptos_kaggle/Adam/train_end_history.json')\n",
        "# for i in range(30):\n",
        "#     val_loss.append(net.history[i]['valid_loss'])\n",
        "#     train_loss.append(net.history[i]['train_loss'])\n",
        "\n",
        "# plt.figure(figsize=(8,6))\n",
        "# plt.semilogy(train_loss, label='Train loss')\n",
        "# plt.semilogy(val_loss, label='Validation loss')\n",
        "# plt.xlabel('Epoch')\n",
        "# plt.ylabel('Loss')\n",
        "# plt.grid()\n",
        "# plt.legend()\n",
        "# plt.show()"
      ]
    },
    {
      "cell_type": "code",
      "execution_count": null,
      "id": "2f15f9ea",
      "metadata": {
        "id": "2f15f9ea"
      },
      "outputs": [],
      "source": [
        "# #Prediction of 5-class classifier\n",
        "# from sklearn.metrics import accuracy_score\n",
        "# #from sklearn.model_selection import cross_val_score\n",
        "\n",
        "# net.initialize()\n",
        "# net.load_params(f_params='/content/drive/MyDrive/DL/aptos_kaggle/Adam/train_end_params.pt')\n",
        "\n",
        "# y_pred8 = net.predict(test_ds_8)\n",
        "# accuracy8 = accuracy_score(y_test8, y_pred8)\n",
        "# print(f'The test accuracy for 5-class classification: {round(accuracy8*100,2)}%')"
      ]
    },
    {
      "cell_type": "code",
      "execution_count": null,
      "id": "f2aweUcdkgKw",
      "metadata": {
        "id": "f2aweUcdkgKw"
      },
      "outputs": [],
      "source": [
        "#os.environ['CUDA_LAUNCH_BLOCKING'] = \"1\""
      ]
    },
    {
      "cell_type": "code",
      "execution_count": null,
      "id": "-XKlT_PasBcg",
      "metadata": {
        "id": "-XKlT_PasBcg"
      },
      "outputs": [],
      "source": [
        "#len(train_ds_8)"
      ]
    },
    {
      "cell_type": "code",
      "execution_count": null,
      "id": "5dfa2253",
      "metadata": {
        "id": "5dfa2253"
      },
      "outputs": [],
      "source": [
        "# from sklearn.metrics import confusion_matrix,ConfusionMatrixDisplay\n",
        "# from sklearn.metrics import classification_report\n",
        "\n",
        "# cm = confusion_matrix(y_test8, y_pred8)\n",
        "# disp = ConfusionMatrixDisplay(confusion_matrix=cm,display_labels=sub_classname)\n",
        "# disp.plot()\n",
        "# plt.show()\n",
        "# sub_classname_str = [str(x) for x in sub_classname]\n",
        "# print(classification_report(y_test8, y_pred8, target_names=sub_classname_str, digits=4))\n",
        "# per_class_accuracies = {}\n",
        "# for idx, cls in enumerate(sub_classname):\n",
        "#     true_negatives = np.sum(np.delete(np.delete(cm, idx, axis=0), idx, axis=1))\n",
        "#     true_positives = cm[idx, idx]\n",
        "#     per_class_accuracies[cls] = round((true_positives + true_negatives) / np.sum(cm)*100,2)\n",
        "#     print(f'Accuracy for {cls}: {per_class_accuracies[cls]}% ')"
      ]
    },
    {
      "cell_type": "markdown",
      "id": "ih6R63IBq4-s",
      "metadata": {
        "id": "ih6R63IBq4-s"
      },
      "source": []
    },
    {
      "cell_type": "markdown",
      "id": "t1WRti9xbyxb",
      "metadata": {
        "id": "t1WRti9xbyxb"
      },
      "source": [
        "Prepare the balanced data\n",
        "Over-sampling using SMOTE\n",
        "\n",
        "Perform over-sampling using SMOTE to increase minority class size to be same as majority class 'DC'."
      ]
    },
    {
      "cell_type": "code",
      "execution_count": null,
      "id": "a4JyYxtKq9E4",
      "metadata": {
        "colab": {
          "base_uri": "https://localhost:8080/"
        },
        "id": "a4JyYxtKq9E4",
        "outputId": "fc05e7fa-7d7b-4b41-97bf-b1eccf3573a3"
      },
      "outputs": [
        {
          "name": "stdout",
          "output_type": "stream",
          "text": [
            "The train set shape before over-sampling: (3295, 3)\n",
            "After over sampling, the train set shape : (8075, 3)\n"
          ]
        }
      ],
      "source": [
        "from imblearn.over_sampling import SMOTEN\n",
        "print(f'The train set shape before over-sampling: {train.shape}')\n",
        "smote = SMOTEN(sampling_strategy='auto',random_state=SEED)\n",
        "Xtrain_sm,ytrain_sm8 = smote.fit_resample(train,y_train8)\n",
        "#ytrain_sm2 = le.transform(Xtrain_sm.main_type)\n",
        "print(f\"After over sampling, the train set shape : {Xtrain_sm.shape}\")"
      ]
    },
    {
      "cell_type": "code",
      "execution_count": null,
      "id": "VBWuXNu7rHNo",
      "metadata": {
        "colab": {
          "base_uri": "https://localhost:8080/"
        },
        "id": "VBWuXNu7rHNo",
        "outputId": "789ab082-cc4d-435a-9829-210a98c4e3f9"
      },
      "outputs": [
        {
          "data": {
            "text/plain": [
              "2    1615\n",
              "4    1615\n",
              "1    1615\n",
              "0    1615\n",
              "3    1615\n",
              "Name: diagnosis, dtype: int64"
            ]
          },
          "execution_count": 27,
          "metadata": {},
          "output_type": "execute_result"
        }
      ],
      "source": [
        "Xtrain_sm.diagnosis.value_counts()"
      ]
    },
    {
      "cell_type": "markdown",
      "id": "OM7aA2GorPXH",
      "metadata": {
        "id": "OM7aA2GorPXH"
      },
      "source": [
        "Load and transform the image data\n",
        "Apply RandomHorizontalFlip() and transforms.RandomVerticalFlip() during loading data to reduce duplicates when add more images for minority class."
      ]
    },
    {
      "cell_type": "code",
      "execution_count": null,
      "id": "A2MiAUMKrUGr",
      "metadata": {
        "id": "A2MiAUMKrUGr"
      },
      "outputs": [],
      "source": [
        "# Define class to load and transform image data\n",
        "SEED = 31\n",
        "torch.manual_seed(SEED)\n",
        "class load_data(torch.utils.data.Dataset):\n",
        "    def __init__(self, X_df, y):\n",
        "        self.X = X_df\n",
        "        self.y = y\n",
        "        self.T1 = transforms.Compose([\n",
        "                    transforms.Resize((IMG_SIZE,IMG_SIZE)),\n",
        "                    transforms.RandomHorizontalFlip(),\n",
        "                    transforms.RandomVerticalFlip(),\n",
        "                    transforms.RandomRotation(90),\n",
        "                    transforms.ToTensor(),\n",
        "                    transforms.Normalize(img_mean,img_std)])\n",
        "        self.T2 = transforms.Compose([\n",
        "                    transforms.Resize((IMG_SIZE,IMG_SIZE)),\n",
        "                    transforms.ToTensor(),\n",
        "                    transforms.Normalize(img_mean,img_std)])\n",
        "\n",
        "    def __len__(self):\n",
        "        return len(self.X)\n",
        "\n",
        "    def __getitem__(self, index):\n",
        "        row = self.X.iloc[index]\n",
        "        img = Image.open(row['filename'])\n",
        "        if self.X.name == 'train': return self.T1(img),self.y[index]\n",
        "        else: return self.T2(img),self.y[index]\n",
        "\n",
        "# # Prepare training and validation datasets for binary classfication\n",
        "# X_train, X_valid, y_train, y_valid = train_test_split(Xtrain_sm, ytrain_sm2, test_size=0.25, random_state=SEED)\n",
        "# X_train.name = 'train'\n",
        "# X_valid.name = 'val'\n",
        "# test.name = 'test'\n",
        "# train.name = 'train'\n",
        "\n",
        "# # reset index\n",
        "# X_train.reset_index(inplace=True)\n",
        "# X_train.drop(columns=['index'],inplace=True)\n",
        "# X_valid.reset_index(inplace=True)\n",
        "# X_valid.drop(columns=['index'],inplace=True)\n",
        "\n",
        "# train_ds_sm = load_data(X_train,y_train)\n",
        "# valid_ds_sm = load_data(X_valid,y_valid)\n",
        "# test_ds = load_data(test,y_test2)\n",
        "\n",
        "# Prepare training and validation datasets for 8-class classfication, 20% for test\n",
        "X_train_8, X_valid_8, y_train_8, y_valid_8 = train_test_split(Xtrain_sm, ytrain_sm8, test_size=0.1, random_state=SEED)\n",
        "X_train_8.name = 'train'\n",
        "X_valid_8.name = 'val'\n",
        "test.name = 'test'\n",
        "\n",
        "# reset index\n",
        "X_train_8.reset_index(inplace=True)\n",
        "X_train_8.drop(columns=['index'],inplace=True)\n",
        "X_valid_8.reset_index(inplace=True)\n",
        "X_valid_8.drop(columns=['index'],inplace=True)\n",
        "\n",
        "train_ds_sm8 = load_data(X_train_8,y_train_8)\n",
        "valid_ds_sm8 = load_data(X_valid_8,y_valid_8)\n",
        "test_ds_8 = load_data(test,y_test8)"
      ]
    },
    {
      "cell_type": "markdown",
      "id": "1JUYN_N6VWuK",
      "metadata": {
        "id": "1JUYN_N6VWuK"
      },
      "source": []
    },
    {
      "cell_type": "code",
      "execution_count": null,
      "id": "N2BcpU9lrzEr",
      "metadata": {
        "id": "N2BcpU9lrzEr"
      },
      "outputs": [],
      "source": [
        "from skorch.callbacks import LRScheduler,Checkpoint,TrainEndCheckpoint,Freezer, ProgressBar, EarlyStopping, Checkpoint, EpochScoring\n",
        "from torch.optim.lr_scheduler import CyclicLR\n",
        "\n",
        "lrscheduler = LRScheduler(policy='StepLR', step_size=7, gamma=0.3)\n",
        "\n",
        "freezer = Freezer(lambda x: not x.startswith('model.fc'))\n",
        "checkpoint = Checkpoint(dirname='/content/drive/MyDrive/DL/aptos_clahe_GFPGAN224_vgg19/Adam2_sm8_vgg', monitor='valid_loss_best')\n",
        "early_stopping = EarlyStopping(monitor='valid_loss', patience=3)"
      ]
    },
    {
      "cell_type": "code",
      "execution_count": null,
      "id": "k6cRJhHrOZqZ",
      "metadata": {
        "id": "k6cRJhHrOZqZ"
      },
      "outputs": [],
      "source": []
    },
    {
      "cell_type": "markdown",
      "id": "ciUurOJ6r2m5",
      "metadata": {
        "id": "ciUurOJ6r2m5"
      },
      "source": [
        "Train model with Adam optimizer for 5 classes case\n",
        "Train the model with step LR scheduler and validate with predefined validation set"
      ]
    },
    {
      "cell_type": "code",
      "execution_count": null,
      "id": "NVmOs1Udr3bi",
      "metadata": {
        "colab": {
          "base_uri": "https://localhost:8080/"
        },
        "id": "NVmOs1Udr3bi",
        "outputId": "3ec4d871-6c71-4884-e4c3-68839f6117a4"
      },
      "outputs": [
        {
          "name": "stderr",
          "output_type": "stream",
          "text": [
            "/usr/local/lib/python3.10/dist-packages/torchvision/models/_utils.py:208: UserWarning: The parameter 'pretrained' is deprecated since 0.13 and may be removed in the future, please use 'weights' instead.\n",
            "  warnings.warn(\n",
            "/usr/local/lib/python3.10/dist-packages/torchvision/models/_utils.py:223: UserWarning: Arguments other than a weight enum or `None` for 'weights' are deprecated since 0.13 and may be removed in the future. The current behavior is equivalent to passing `weights=VGG19_Weights.IMAGENET1K_V1`. You can also use `weights=VGG19_Weights.DEFAULT` to get the most up-to-date weights.\n",
            "  warnings.warn(msg)\n"
          ]
        }
      ],
      "source": [
        "lrscheduler = LRScheduler(policy='StepLR', step_size=5, gamma=0.5)\n",
        "cp = Checkpoint(dirname='/content/drive/MyDrive/DL/aptos_clahe_GFPGAN224_vgg19/Adam2_sm8')\n",
        "train_end_cp = TrainEndCheckpoint(dirname='/content/drive/MyDrive/DL/aptos_clahe_GFPGAN224_vgg19/Adam2_sm8')\n",
        "model_vgg19 = HXVGG19()\n",
        "\n",
        "net = NeuralNetClassifier(\n",
        "    model_vgg19,\n",
        "    criterion=nn.CrossEntropyLoss,\n",
        "    lr=0.0003,\n",
        "    batch_size=32,\n",
        "    max_epochs=40,\n",
        "    optimizer=optim.Adam,\n",
        "    optimizer__weight_decay=1e-4,\n",
        "    iterator_train__shuffle=True,\n",
        "    iterator_train__num_workers=2,\n",
        "    iterator_valid__shuffle=False,\n",
        "    iterator_valid__num_workers=2,\n",
        "    train_split=predefined_split(valid_ds_sm8),\n",
        "    callbacks=[lrscheduler,cp,train_end_cp, ProgressBar(), checkpoint, EpochScoring(scoring='accuracy', on_train=True)],\n",
        "    #callbacks=[lrscheduler,cp,train_end_cp, ProgressBar(), checkpoint, early_stopping, EpochScoring(scoring='accuracy', on_train=True)],\n",
        "    device = 'cuda'\n",
        ")\n",
        "\n",
        "#_ = net.fit(train_ds_sm8,y=None)"
      ]
    },
    {
      "cell_type": "code",
      "execution_count": null,
      "id": "yGr7iAjcJfiU",
      "metadata": {
        "colab": {
          "base_uri": "https://localhost:8080/",
          "height": 593
        },
        "id": "yGr7iAjcJfiU",
        "outputId": "bfdee7f6-0c9e-4fc2-df1d-bbc01144a85b"
      },
      "outputs": [
        {
          "name": "stdout",
          "output_type": "stream",
          "text": [
            "Re-initializing module.\n",
            "Re-initializing criterion.\n",
            "Re-initializing optimizer.\n"
          ]
        },
        {
          "data": {
            "image/png": "[encoded data removed]",
            "text/plain": [
              "<Figure size 800x600 with 1 Axes>"
            ]
          },
          "metadata": {},
          "output_type": "display_data"
        }
      ],
      "source": [
        "val_loss=[]\n",
        "train_loss=[]\n",
        "\n",
        "net.initialize()\n",
        "net.load_params(f_params='/content/drive/MyDrive/DL/aptos_clahe_GFPGAN224_vgg19/Adam2_sm8/train_end_params.pt',\n",
        "                f_history='/content/drive/MyDrive/DL/aptos_clahe_GFPGAN224_vgg19/Adam2_sm8/train_end_history.json')\n",
        "for i in range(40):\n",
        "    val_loss.append(net.history[i]['valid_loss'])\n",
        "    train_loss.append(net.history[i]['train_loss'])\n",
        "\n",
        "plt.figure(figsize=(8,6))\n",
        "plt.plot(train_loss, label='Train loss')\n",
        "plt.plot(val_loss, label='Validation loss')\n",
        "plt.xlabel('Epoch')\n",
        "plt.ylabel('Loss')\n",
        "plt.grid()\n",
        "plt.legend()\n",
        "plt.show()"
      ]
    },
    {
      "cell_type": "code",
      "execution_count": null,
      "id": "EfNY5hOfMjFI",
      "metadata": {
        "colab": {
          "base_uri": "https://localhost:8080/",
          "height": 544
        },
        "id": "EfNY5hOfMjFI",
        "outputId": "a7be6f75-f86e-41a0-b25e-5b8dfe75f6bc"
      },
      "outputs": [
        {
          "data": {
            "image/png": "[encoded data removed]",
            "text/plain": [
              "<Figure size 800x600 with 1 Axes>"
            ]
          },
          "metadata": {},
          "output_type": "display_data"
        }
      ],
      "source": [
        "val_acc=[]\n",
        "train_acc=[]\n",
        "\n",
        "for i in range(40):\n",
        "    val_acc.append(net.history[i]['valid_acc'])\n",
        "    train_acc.append(net.history[i]['accuracy'])\n",
        "\n",
        "plt.figure(figsize=(8,6))\n",
        "plt.plot(train_acc, label='Train accuracy')\n",
        "plt.plot(val_acc, label='Validation accuracy')\n",
        "plt.xlabel('Epoch')\n",
        "plt.ylabel('Accuracy')\n",
        "plt.grid()\n",
        "plt.legend()\n",
        "plt.show()\n",
        "\n"
      ]
    },
    {
      "cell_type": "code",
      "execution_count": null,
      "id": "zcnifWL5JwSS",
      "metadata": {
        "colab": {
          "base_uri": "https://localhost:8080/"
        },
        "id": "zcnifWL5JwSS",
        "outputId": "d647fb2a-05a0-4c18-fc01-e4c8218519f2"
      },
      "outputs": [
        {
          "name": "stdout",
          "output_type": "stream",
          "text": [
            "The test accuracy for 5-class classification: 83.88%\n"
          ]
        }
      ],
      "source": [
        "#Prediction of 5-class classifier\n",
        "from sklearn.metrics import accuracy_score\n",
        "\n",
        "# lrscheduler = LRScheduler(policy=CyclicLR,base_lr=0.001, max_lr=0.5,step_size_up=len(train_ds_sm8)//2)\n",
        "# cp = Checkpoint(dirname='/content/drive/MyDrive/DL/aptos_clahe_GFPGAN224/Adam2_sm8')\n",
        "# train_end_cp = TrainEndCheckpoint(dirname='/content/drive/MyDrive/DL/aptos_clahe_GFPGAN224/Adam2_sm8')\n",
        "\n",
        "# net = NeuralNetClassifier(\n",
        "#     PretrainedModel(5),\n",
        "#     criterion=nn.CrossEntropyLoss,\n",
        "#     lr=0.0003,\n",
        "#     batch_size=32,\n",
        "#     max_epochs=20,\n",
        "#     optimizer=optim.Adam,\n",
        "#     optimizer__weight_decay=1e-4,\n",
        "#     iterator_train__shuffle=True,\n",
        "#     iterator_train__num_workers=2,\n",
        "#     iterator_valid__shuffle=False,\n",
        "#     iterator_valid__num_workers=2,\n",
        "#     train_split=predefined_split(valid_ds_sm8),\n",
        "#     callbacks=[lrscheduler,cp,train_end_cp],\n",
        "#     device = 'cuda'\n",
        "# )\n",
        "\n",
        "\n",
        "# net.initialize()\n",
        "# net.load_params(f_params='/content/drive/MyDrive/DL/aptos_GFPGAN224/Adam2_sm8/train_end_params.pt')\n",
        "\n",
        "\n",
        "y_pred8 = net.predict(test_ds_8)\n",
        "accuracy8 = accuracy_score(y_test8, y_pred8)\n",
        "print(f'The test accuracy for 5-class classification: {round(accuracy8*100,2)}%')"
      ]
    },
    {
      "cell_type": "code",
      "execution_count": null,
      "id": "W_I0bkHaKCrS",
      "metadata": {
        "colab": {
          "base_uri": "https://localhost:8080/",
          "height": 738
        },
        "id": "W_I0bkHaKCrS",
        "outputId": "ab60bc95-8bf0-45f1-c949-b3a2b828552b"
      },
      "outputs": [
        {
          "data": {
            "image/png": "[encoded data removed]",
            "text/plain": [
              "<Figure size 640x480 with 2 Axes>"
            ]
          },
          "metadata": {},
          "output_type": "display_data"
        },
        {
          "name": "stdout",
          "output_type": "stream",
          "text": [
            "              precision    recall  f1-score   support\n",
            "\n",
            "           0     0.9947    0.9842    0.9894       190\n",
            "           1     0.7692    0.5000    0.6061        40\n",
            "           2     0.6612    0.9302    0.7729        86\n",
            "           3     0.5385    0.3684    0.4375        19\n",
            "           4     0.7222    0.4194    0.5306        31\n",
            "\n",
            "    accuracy                         0.8388       366\n",
            "   macro avg     0.7372    0.6404    0.6673       366\n",
            "weighted avg     0.8449    0.8388    0.8291       366\n",
            "\n",
            "Accuracy for 0: 98.91% \n",
            "Accuracy for 1: 92.9% \n",
            "Accuracy for 2: 87.16% \n",
            "Accuracy for 3: 95.08% \n",
            "Accuracy for 4: 93.72% \n"
          ]
        }
      ],
      "source": [
        "from sklearn.metrics import confusion_matrix,ConfusionMatrixDisplay\n",
        "from sklearn.metrics import classification_report\n",
        "\n",
        "cm = confusion_matrix(y_test8, y_pred8)\n",
        "disp = ConfusionMatrixDisplay(confusion_matrix=cm,display_labels=sub_classname)\n",
        "disp.plot()\n",
        "plt.show()\n",
        "sub_classname_str = [str(x) for x in sub_classname]\n",
        "print(classification_report(y_test8, y_pred8, target_names=sub_classname_str, digits=4))\n",
        "per_class_accuracies = {}\n",
        "for idx, cls in enumerate(sub_classname):\n",
        "    true_negatives = np.sum(np.delete(np.delete(cm, idx, axis=0), idx, axis=1))\n",
        "    true_positives = cm[idx, idx]\n",
        "    per_class_accuracies[cls] = round((true_positives + true_negatives) / np.sum(cm)*100,2)\n",
        "    print(f'Accuracy for {cls}: {per_class_accuracies[cls]}% ')\n"
      ]
    },
    {
      "cell_type": "code",
      "execution_count": null,
      "id": "ZViAppGRQBBp",
      "metadata": {
        "colab": {
          "base_uri": "https://localhost:8080/"
        },
        "id": "ZViAppGRQBBp",
        "outputId": "7ef4a62c-8cef-4a72-acc3-e84b80355efc"
      },
      "outputs": [
        {
          "data": {
            "text/plain": [
              "array([[187,   3,   0,   0,   0],\n",
              "       [  1,  20,  19,   0,   0],\n",
              "       [  0,   2,  80,   3,   1],\n",
              "       [  0,   0,   8,   7,   4],\n",
              "       [  0,   1,  14,   3,  13]])"
            ]
          },
          "execution_count": 72,
          "metadata": {},
          "output_type": "execute_result"
        }
      ],
      "source": [
        "cm"
      ]
    },
    {
      "cell_type": "code",
      "execution_count": null,
      "id": "gBJfuvilKyA3",
      "metadata": {
        "colab": {
          "base_uri": "https://localhost:8080/"
        },
        "id": "gBJfuvilKyA3",
        "outputId": "20cfec49-696f-4bd8-c55f-033605b57d8f"
      },
      "outputs": [
        {
          "name": "stderr",
          "output_type": "stream",
          "text": [
            "Downloading: \"https://download.pytorch.org/models/resnet50-11ad3fa6.pth\" to /root/.cache/torch/hub/checkpoints/resnet50-11ad3fa6.pth\n",
            "100%|██████████| 97.8M/97.8M [00:00<00:00, 176MB/s]\n"
          ]
        },
        {
          "name": "stdout",
          "output_type": "stream",
          "text": [
            "  epoch    train_loss    valid_acc    valid_loss    cp      lr      dur\n",
            "-------  ------------  -----------  ------------  ----  ------  -------\n",
            "      1        \u001b[36m1.4956\u001b[0m       \u001b[32m0.5121\u001b[0m        \u001b[35m1.5100\u001b[0m     +  0.0010  28.8098\n",
            "      2        \u001b[36m0.7720\u001b[0m       \u001b[32m0.6788\u001b[0m        \u001b[35m1.0200\u001b[0m     +  0.0011  27.1632\n",
            "      3        \u001b[36m0.4444\u001b[0m       \u001b[32m0.6970\u001b[0m        \u001b[35m0.8655\u001b[0m     +  0.0013  26.6655\n",
            "      4        \u001b[36m0.3844\u001b[0m       \u001b[32m0.7061\u001b[0m        \u001b[35m0.7876\u001b[0m     +  0.0014  27.5664\n",
            "      5        \u001b[36m0.3459\u001b[0m       \u001b[32m0.7242\u001b[0m        0.8055        0.0015  27.3232\n",
            "      6        \u001b[36m0.3345\u001b[0m       \u001b[32m0.7303\u001b[0m        \u001b[35m0.7460\u001b[0m     +  0.0017  26.6597\n",
            "      7        \u001b[36m0.3163\u001b[0m       \u001b[32m0.7606\u001b[0m        \u001b[35m0.7084\u001b[0m     +  0.0018  26.9660\n",
            "      8        0.3173       0.7424        0.7614        0.0020  27.1452\n",
            "      9        \u001b[36m0.3035\u001b[0m       0.7485        \u001b[35m0.6696\u001b[0m     +  0.0021  26.4739\n",
            "     10        \u001b[36m0.2998\u001b[0m       0.7424        0.7135        0.0022  27.4433\n",
            "     11        \u001b[36m0.2926\u001b[0m       0.7424        0.7053        0.0024  27.3575\n",
            "     12        \u001b[36m0.2802\u001b[0m       0.7424        \u001b[35m0.6503\u001b[0m     +  0.0025  27.5691\n",
            "     13        0.2820       0.7545        0.6610        0.0026  27.6880\n",
            "     14        0.2820       0.7485        0.7201        0.0028  28.0562\n",
            "     15        \u001b[36m0.2741\u001b[0m       0.7515        0.6867        0.0029  27.6296\n",
            "     16        \u001b[36m0.2709\u001b[0m       \u001b[32m0.7636\u001b[0m        0.6762        0.0031  27.3254\n",
            "     17        \u001b[36m0.2650\u001b[0m       0.7515        0.6822        0.0032  27.0724\n",
            "     18        \u001b[36m0.2642\u001b[0m       0.7576        \u001b[35m0.6353\u001b[0m     +  0.0033  26.7963\n",
            "     19        \u001b[36m0.2618\u001b[0m       0.7606        \u001b[35m0.6192\u001b[0m     +  0.0035  27.5196\n",
            "     20        \u001b[36m0.2541\u001b[0m       \u001b[32m0.7667\u001b[0m        \u001b[35m0.6120\u001b[0m     +  0.0036  27.3577\n",
            "     21        \u001b[36m0.2514\u001b[0m       \u001b[32m0.7788\u001b[0m        0.6224        0.0037  27.1464\n",
            "     22        0.2535       0.7455        0.6137        0.0039  26.8388\n",
            "     23        \u001b[36m0.2501\u001b[0m       \u001b[32m0.7848\u001b[0m        \u001b[35m0.5898\u001b[0m     +  0.0040  27.0399\n",
            "     24        \u001b[36m0.2472\u001b[0m       0.7394        0.6365        0.0042  27.5009\n",
            "     25        0.2549       0.7606        0.6192        0.0043  27.1478\n",
            "     26        \u001b[36m0.2389\u001b[0m       0.7515        0.6012        0.0044  27.9219\n",
            "     27        \u001b[36m0.2383\u001b[0m       0.7636        0.5982        0.0046  27.8048\n",
            "     28        0.2406       0.7485        0.6180        0.0047  27.2248\n",
            "     29        0.2398       0.7758        \u001b[35m0.5779\u001b[0m     +  0.0048  26.8763\n",
            "     30        \u001b[36m0.2354\u001b[0m       \u001b[32m0.7879\u001b[0m        \u001b[35m0.5620\u001b[0m     +  0.0050  27.4863\n"
          ]
        }
      ],
      "source": [
        "#Train model with SGD optimizer for 5 classes case\n",
        "#Train the model with step LR scheduler and validate with predefined validation set\n",
        "\n",
        "lrscheduler = LRScheduler(policy=CyclicLR,base_lr=0.001, max_lr=0.5,step_size_up=len(train_ds_sm8)//2)\n",
        "checkpoint = Checkpoint(dirname='/content/drive/MyDrive/DL/aptos_GFPGAN224/SGD_sm8')\n",
        "train_end_cp = TrainEndCheckpoint(dirname='/content/drive/MyDrive/DL/aptos_GFPGAN224/SGD_sm8')\n",
        "\n",
        "net3 = NeuralNetClassifier(\n",
        "    PretrainedModel(5),\n",
        "    criterion=nn.CrossEntropyLoss,\n",
        "    lr=0.001,\n",
        "    batch_size=16,\n",
        "    max_epochs=30,\n",
        "    module__output_features=5,\n",
        "    optimizer=optim.SGD,\n",
        "    optimizer__momentum=0.9,\n",
        "    iterator_train__shuffle=True,\n",
        "    iterator_train__num_workers=2,\n",
        "    iterator_valid__shuffle=False,\n",
        "    iterator_valid__num_workers=2,\n",
        "    train_split=predefined_split(valid_ds_8),\n",
        "    callbacks=[lrscheduler, checkpoint, freezer],\n",
        "    device = 'cuda'\n",
        ")\n",
        "_ = net3.fit(train_ds_sm8,y=None)\n"
      ]
    },
    {
      "cell_type": "code",
      "execution_count": null,
      "id": "WfnQCNU2pRCk",
      "metadata": {
        "id": "WfnQCNU2pRCk"
      },
      "outputs": [],
      "source": [
        "#Prediction of 5-class classifier\n",
        "\n",
        "from sklearn.metrics import accuracy_score\n",
        "\n",
        "lrscheduler = LRScheduler(policy=CyclicLR,base_lr=0.001, max_lr=0.5,step_size_up=len(train_ds_sm8)//2)\n",
        "checkpoint = Checkpoint(dirname='/content/drive/MyDrive/DL/aptos_GFPGAN224/Adam2_sm8')\n",
        "train_end_cp = TrainEndCheckpoint(dirname='/content/drive/MyDrive/DL/aptos_GFPGAN224/Adam2_sm8')\n",
        "\n",
        "net3 = NeuralNetClassifier(\n",
        "    PretrainedModel(5),\n",
        "    criterion=nn.CrossEntropyLoss,\n",
        "    lr=0.001,\n",
        "    batch_size=16,\n",
        "    max_epochs=20,\n",
        "    module__output_features=5,\n",
        "    optimizer=optim.SGD,\n",
        "    optimizer__momentum=0.9,\n",
        "    iterator_train__shuffle=True,\n",
        "    iterator_train__num_workers=2,\n",
        "    iterator_valid__shuffle=False,\n",
        "    iterator_valid__num_workers=2,\n",
        "    train_split=predefined_split(valid_ds_8),\n",
        "    callbacks=[lrscheduler, checkpoint, freezer],\n",
        "    device = 'cuda'\n",
        ")\n",
        "net3.initialize()\n",
        "net3.load_params(f_params='/content/drive/MyDrive/DL/aptos_GFPGAN224/Adam_sm8/train_end_params.pt')\n",
        "y_pred8 = net3.predict(test_ds_8)\n",
        "accuracy8 = accuracy_score(y_test8, y_pred8)\n",
        "print(f'The test accuracy for 5-class classification: {round(accuracy8*100,2)}%')"
      ]
    },
    {
      "cell_type": "code",
      "execution_count": null,
      "id": "xMyCj-5PvmZi",
      "metadata": {
        "id": "xMyCj-5PvmZi"
      },
      "outputs": [],
      "source": [
        "from sklearn.metrics import confusion_matrix,ConfusionMatrixDisplay\n",
        "from sklearn.metrics import classification_report\n",
        "\n",
        "cm = confusion_matrix(y_test8, y_pred8)\n",
        "disp = ConfusionMatrixDisplay(confusion_matrix=cm,display_labels=sub_classname)\n",
        "disp.plot()\n",
        "plt.show()\n",
        "sub_classname_str = [str(x) for x in sub_classname]\n",
        "print(classification_report(y_test8, y_pred8, target_names=sub_classname_str, digits=4))\n",
        "per_class_accuracies = {}\n",
        "for idx, cls in enumerate(sub_classname):\n",
        "    true_negatives = np.sum(np.delete(np.delete(cm, idx, axis=0), idx, axis=1))\n",
        "    true_positives = cm[idx, idx]\n",
        "    per_class_accuracies[cls] = round((true_positives + true_negatives) / np.sum(cm)*100,2)\n",
        "    print(f'Accuracy for {cls}: {per_class_accuracies[cls]}% ')"
      ]
    },
    {
      "cell_type": "code",
      "execution_count": null,
      "id": "DmpVhD6CAI6i",
      "metadata": {
        "id": "DmpVhD6CAI6i"
      },
      "outputs": [],
      "source": [
        "cm"
      ]
    },
    {
      "cell_type": "code",
      "execution_count": null,
      "id": "9Q1rNgrzMl2c",
      "metadata": {
        "id": "9Q1rNgrzMl2c"
      },
      "outputs": [],
      "source": [
        "import plotly.graph_objects as go\n",
        "from sklearn.metrics import confusion_matrix,ConfusionMatrixDisplay\n",
        "from sklearn.metrics import classification_report\n",
        "from sklearn.metrics import confusion_matrix\n",
        "#import numpy as np\n",
        "\n",
        "def draw_confusion_matrix(confusion_matrix):\n",
        "     import plotly.express as px\n",
        "\n",
        "     h, _ = confusion_matrix.shape\n",
        "     class_labels = [f\"{str(i)}\" for i in range(h)]\n",
        "\n",
        "     fig = px.imshow(confusion_matrix,\n",
        "                    labels=dict(x=\"Predicted label\", y=\"True label\", color=\"confusion\"),\n",
        "                    color_continuous_scale=[(0, 'black'), (1, 'white')],\n",
        "                    x=class_labels,\n",
        "                    y=class_labels,\n",
        "                    text_auto=True, aspect=\"auto\")\n",
        "     fig.update_layout(yaxis = dict(scaleanchor = 'x'))\n",
        "     fig.update_layout(plot_bgcolor='rgba(0,0,0,0)')\n",
        "     fig.show()\n",
        "\n",
        "conf_matrix = confusion_matrix(y_test8, y_pred8)   # <------- You still need to get y_test8 and y_pred8\n",
        "draw_confusion_matrix(confusion_matrix=conf_matrix )"
      ]
    },
    {
      "cell_type": "code",
      "execution_count": null,
      "id": "MqamMGWUGnFy",
      "metadata": {
        "id": "MqamMGWUGnFy"
      },
      "outputs": [],
      "source": []
    }
  ],
  "metadata": {
    "accelerator": "GPU",
    "colab": {
      "gpuType": "V100",
      "machine_shape": "hm",
      "provenance": []
    },
    "kernelspec": {
      "display_name": "Python 3",
      "name": "python3"
    },
    "language_info": {
      "codemirror_mode": {
        "name": "ipython",
        "version": 3
      },
      "file_extension": ".py",
      "mimetype": "text/x-python",
      "name": "python",
      "nbconvert_exporter": "python",
      "pygments_lexer": "ipython3",
      "version": "3.11.5"
    }
  },
  "nbformat": 4,
  "nbformat_minor": 5
}
